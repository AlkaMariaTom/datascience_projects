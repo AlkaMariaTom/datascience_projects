{
 "cells": [
  {
   "cell_type": "code",
   "execution_count": 1,
   "id": "63aaaf12",
   "metadata": {},
   "outputs": [],
   "source": [
    "import numpy as np\n",
    "import pandas as pd\n",
    "from matplotlib import pyplot as plt\n",
    "import seaborn as sns\n",
    "from sklearn.model_selection import train_test_split\n",
    "from sklearn.preprocessing import StandardScaler\n",
    "from sklearn.linear_model import LogisticRegression\n",
    "from sklearn import metrics\n",
    "%matplotlib inline\n",
    "import warnings\n",
    "warnings.filterwarnings('ignore')"
   ]
  },
  {
   "cell_type": "code",
   "execution_count": 2,
   "id": "7b7e361c",
   "metadata": {},
   "outputs": [
    {
     "data": {
      "text/html": [
       "<div>\n",
       "<style scoped>\n",
       "    .dataframe tbody tr th:only-of-type {\n",
       "        vertical-align: middle;\n",
       "    }\n",
       "\n",
       "    .dataframe tbody tr th {\n",
       "        vertical-align: top;\n",
       "    }\n",
       "\n",
       "    .dataframe thead th {\n",
       "        text-align: right;\n",
       "    }\n",
       "</style>\n",
       "<table border=\"1\" class=\"dataframe\">\n",
       "  <thead>\n",
       "    <tr style=\"text-align: right;\">\n",
       "      <th></th>\n",
       "      <th>id</th>\n",
       "      <th>user_id</th>\n",
       "      <th>vehicle_model_id</th>\n",
       "      <th>package_id</th>\n",
       "      <th>travel_type_id</th>\n",
       "      <th>from_area_id</th>\n",
       "      <th>to_area_id</th>\n",
       "      <th>from_city_id</th>\n",
       "      <th>to_city_id</th>\n",
       "      <th>from_date</th>\n",
       "      <th>online_booking</th>\n",
       "      <th>mobile_site_booking</th>\n",
       "      <th>booking_created</th>\n",
       "      <th>from_lat</th>\n",
       "      <th>from_long</th>\n",
       "      <th>to_lat</th>\n",
       "      <th>to_long</th>\n",
       "      <th>Car_Cancellation</th>\n",
       "    </tr>\n",
       "  </thead>\n",
       "  <tbody>\n",
       "    <tr>\n",
       "      <th>0</th>\n",
       "      <td>132512</td>\n",
       "      <td>22177</td>\n",
       "      <td>28</td>\n",
       "      <td>NaN</td>\n",
       "      <td>2</td>\n",
       "      <td>83.0</td>\n",
       "      <td>448.0</td>\n",
       "      <td>NaN</td>\n",
       "      <td>NaN</td>\n",
       "      <td>01-01-2013 02:00</td>\n",
       "      <td>0</td>\n",
       "      <td>0</td>\n",
       "      <td>01-01-2013 01:39</td>\n",
       "      <td>12.924150</td>\n",
       "      <td>77.672290</td>\n",
       "      <td>12.927320</td>\n",
       "      <td>77.635750</td>\n",
       "      <td>0</td>\n",
       "    </tr>\n",
       "    <tr>\n",
       "      <th>1</th>\n",
       "      <td>132513</td>\n",
       "      <td>21413</td>\n",
       "      <td>12</td>\n",
       "      <td>NaN</td>\n",
       "      <td>2</td>\n",
       "      <td>1010.0</td>\n",
       "      <td>540.0</td>\n",
       "      <td>NaN</td>\n",
       "      <td>NaN</td>\n",
       "      <td>01-01-2013 09:00</td>\n",
       "      <td>0</td>\n",
       "      <td>0</td>\n",
       "      <td>01-01-2013 02:25</td>\n",
       "      <td>12.966910</td>\n",
       "      <td>77.749350</td>\n",
       "      <td>12.927680</td>\n",
       "      <td>77.626640</td>\n",
       "      <td>0</td>\n",
       "    </tr>\n",
       "    <tr>\n",
       "      <th>2</th>\n",
       "      <td>132514</td>\n",
       "      <td>22178</td>\n",
       "      <td>12</td>\n",
       "      <td>NaN</td>\n",
       "      <td>2</td>\n",
       "      <td>1301.0</td>\n",
       "      <td>1034.0</td>\n",
       "      <td>NaN</td>\n",
       "      <td>NaN</td>\n",
       "      <td>01-01-2013 03:30</td>\n",
       "      <td>0</td>\n",
       "      <td>0</td>\n",
       "      <td>01-01-2013 03:08</td>\n",
       "      <td>12.937222</td>\n",
       "      <td>77.626915</td>\n",
       "      <td>13.047926</td>\n",
       "      <td>77.597766</td>\n",
       "      <td>0</td>\n",
       "    </tr>\n",
       "    <tr>\n",
       "      <th>3</th>\n",
       "      <td>132515</td>\n",
       "      <td>13034</td>\n",
       "      <td>12</td>\n",
       "      <td>NaN</td>\n",
       "      <td>2</td>\n",
       "      <td>768.0</td>\n",
       "      <td>398.0</td>\n",
       "      <td>NaN</td>\n",
       "      <td>NaN</td>\n",
       "      <td>01-01-2013 05:45</td>\n",
       "      <td>0</td>\n",
       "      <td>0</td>\n",
       "      <td>01-01-2013 04:39</td>\n",
       "      <td>12.989990</td>\n",
       "      <td>77.553320</td>\n",
       "      <td>12.971430</td>\n",
       "      <td>77.639140</td>\n",
       "      <td>0</td>\n",
       "    </tr>\n",
       "    <tr>\n",
       "      <th>4</th>\n",
       "      <td>132517</td>\n",
       "      <td>22180</td>\n",
       "      <td>12</td>\n",
       "      <td>NaN</td>\n",
       "      <td>2</td>\n",
       "      <td>1365.0</td>\n",
       "      <td>849.0</td>\n",
       "      <td>NaN</td>\n",
       "      <td>NaN</td>\n",
       "      <td>01-01-2013 09:00</td>\n",
       "      <td>0</td>\n",
       "      <td>0</td>\n",
       "      <td>01-01-2013 07:53</td>\n",
       "      <td>12.845653</td>\n",
       "      <td>77.677925</td>\n",
       "      <td>12.954340</td>\n",
       "      <td>77.600720</td>\n",
       "      <td>0</td>\n",
       "    </tr>\n",
       "  </tbody>\n",
       "</table>\n",
       "</div>"
      ],
      "text/plain": [
       "       id  user_id  vehicle_model_id  package_id  travel_type_id  \\\n",
       "0  132512    22177                28         NaN               2   \n",
       "1  132513    21413                12         NaN               2   \n",
       "2  132514    22178                12         NaN               2   \n",
       "3  132515    13034                12         NaN               2   \n",
       "4  132517    22180                12         NaN               2   \n",
       "\n",
       "   from_area_id  to_area_id  from_city_id  to_city_id         from_date  \\\n",
       "0          83.0       448.0           NaN         NaN  01-01-2013 02:00   \n",
       "1        1010.0       540.0           NaN         NaN  01-01-2013 09:00   \n",
       "2        1301.0      1034.0           NaN         NaN  01-01-2013 03:30   \n",
       "3         768.0       398.0           NaN         NaN  01-01-2013 05:45   \n",
       "4        1365.0       849.0           NaN         NaN  01-01-2013 09:00   \n",
       "\n",
       "   online_booking  mobile_site_booking   booking_created   from_lat  \\\n",
       "0               0                    0  01-01-2013 01:39  12.924150   \n",
       "1               0                    0  01-01-2013 02:25  12.966910   \n",
       "2               0                    0  01-01-2013 03:08  12.937222   \n",
       "3               0                    0  01-01-2013 04:39  12.989990   \n",
       "4               0                    0  01-01-2013 07:53  12.845653   \n",
       "\n",
       "   from_long     to_lat    to_long  Car_Cancellation  \n",
       "0  77.672290  12.927320  77.635750                 0  \n",
       "1  77.749350  12.927680  77.626640                 0  \n",
       "2  77.626915  13.047926  77.597766                 0  \n",
       "3  77.553320  12.971430  77.639140                 0  \n",
       "4  77.677925  12.954340  77.600720                 0  "
      ]
     },
     "execution_count": 2,
     "metadata": {},
     "output_type": "execute_result"
    }
   ],
   "source": [
    "dataset=pd.read_csv('YourCabs.csv')\n",
    "dataset.head()"
   ]
  },
  {
   "cell_type": "code",
   "execution_count": 3,
   "id": "faf197a3",
   "metadata": {},
   "outputs": [
    {
     "name": "stdout",
     "output_type": "stream",
     "text": [
      "<class 'pandas.core.frame.DataFrame'>\n",
      "RangeIndex: 43431 entries, 0 to 43430\n",
      "Data columns (total 18 columns):\n",
      " #   Column               Non-Null Count  Dtype  \n",
      "---  ------               --------------  -----  \n",
      " 0   id                   43431 non-null  int64  \n",
      " 1   user_id              43431 non-null  int64  \n",
      " 2   vehicle_model_id     43431 non-null  int64  \n",
      " 3   package_id           7550 non-null   float64\n",
      " 4   travel_type_id       43431 non-null  int64  \n",
      " 5   from_area_id         43343 non-null  float64\n",
      " 6   to_area_id           34293 non-null  float64\n",
      " 7   from_city_id         16345 non-null  float64\n",
      " 8   to_city_id           1588 non-null   float64\n",
      " 9   from_date            43431 non-null  object \n",
      " 10  online_booking       43431 non-null  int64  \n",
      " 11  mobile_site_booking  43431 non-null  int64  \n",
      " 12  booking_created      43431 non-null  object \n",
      " 13  from_lat             43338 non-null  float64\n",
      " 14  from_long            43338 non-null  float64\n",
      " 15  to_lat               34293 non-null  float64\n",
      " 16  to_long              34293 non-null  float64\n",
      " 17  Car_Cancellation     43431 non-null  int64  \n",
      "dtypes: float64(9), int64(7), object(2)\n",
      "memory usage: 6.0+ MB\n"
     ]
    }
   ],
   "source": [
    "dataset.info()"
   ]
  },
  {
   "cell_type": "code",
   "execution_count": 4,
   "id": "d5c48871",
   "metadata": {},
   "outputs": [
    {
     "data": {
      "text/plain": [
       "array([2, 1, 3], dtype=int64)"
      ]
     },
     "execution_count": 4,
     "metadata": {},
     "output_type": "execute_result"
    }
   ],
   "source": [
    "dataset['travel_type_id'].unique()\n"
   ]
  },
  {
   "cell_type": "code",
   "execution_count": 5,
   "id": "fe3c8937",
   "metadata": {},
   "outputs": [],
   "source": [
    "x = dataset.drop(['Car_Cancellation'], axis=1)\n",
    "y = dataset[['Car_Cancellation']]"
   ]
  },
  {
   "cell_type": "code",
   "execution_count": 6,
   "id": "e5c51050",
   "metadata": {},
   "outputs": [
    {
     "data": {
      "text/html": [
       "<div>\n",
       "<style scoped>\n",
       "    .dataframe tbody tr th:only-of-type {\n",
       "        vertical-align: middle;\n",
       "    }\n",
       "\n",
       "    .dataframe tbody tr th {\n",
       "        vertical-align: top;\n",
       "    }\n",
       "\n",
       "    .dataframe thead th {\n",
       "        text-align: right;\n",
       "    }\n",
       "</style>\n",
       "<table border=\"1\" class=\"dataframe\">\n",
       "  <thead>\n",
       "    <tr style=\"text-align: right;\">\n",
       "      <th></th>\n",
       "      <th>id</th>\n",
       "      <th>user_id</th>\n",
       "      <th>vehicle_model_id</th>\n",
       "      <th>package_id</th>\n",
       "      <th>travel_type_id</th>\n",
       "      <th>from_area_id</th>\n",
       "      <th>to_area_id</th>\n",
       "      <th>from_city_id</th>\n",
       "      <th>to_city_id</th>\n",
       "      <th>from_date</th>\n",
       "      <th>online_booking</th>\n",
       "      <th>mobile_site_booking</th>\n",
       "      <th>booking_created</th>\n",
       "      <th>from_lat</th>\n",
       "      <th>from_long</th>\n",
       "      <th>to_lat</th>\n",
       "      <th>to_long</th>\n",
       "    </tr>\n",
       "  </thead>\n",
       "  <tbody>\n",
       "    <tr>\n",
       "      <th>0</th>\n",
       "      <td>132512</td>\n",
       "      <td>22177</td>\n",
       "      <td>28</td>\n",
       "      <td>NaN</td>\n",
       "      <td>2</td>\n",
       "      <td>83.0</td>\n",
       "      <td>448.0</td>\n",
       "      <td>NaN</td>\n",
       "      <td>NaN</td>\n",
       "      <td>01-01-2013 02:00</td>\n",
       "      <td>0</td>\n",
       "      <td>0</td>\n",
       "      <td>01-01-2013 01:39</td>\n",
       "      <td>12.924150</td>\n",
       "      <td>77.672290</td>\n",
       "      <td>12.927320</td>\n",
       "      <td>77.635750</td>\n",
       "    </tr>\n",
       "    <tr>\n",
       "      <th>1</th>\n",
       "      <td>132513</td>\n",
       "      <td>21413</td>\n",
       "      <td>12</td>\n",
       "      <td>NaN</td>\n",
       "      <td>2</td>\n",
       "      <td>1010.0</td>\n",
       "      <td>540.0</td>\n",
       "      <td>NaN</td>\n",
       "      <td>NaN</td>\n",
       "      <td>01-01-2013 09:00</td>\n",
       "      <td>0</td>\n",
       "      <td>0</td>\n",
       "      <td>01-01-2013 02:25</td>\n",
       "      <td>12.966910</td>\n",
       "      <td>77.749350</td>\n",
       "      <td>12.927680</td>\n",
       "      <td>77.626640</td>\n",
       "    </tr>\n",
       "    <tr>\n",
       "      <th>2</th>\n",
       "      <td>132514</td>\n",
       "      <td>22178</td>\n",
       "      <td>12</td>\n",
       "      <td>NaN</td>\n",
       "      <td>2</td>\n",
       "      <td>1301.0</td>\n",
       "      <td>1034.0</td>\n",
       "      <td>NaN</td>\n",
       "      <td>NaN</td>\n",
       "      <td>01-01-2013 03:30</td>\n",
       "      <td>0</td>\n",
       "      <td>0</td>\n",
       "      <td>01-01-2013 03:08</td>\n",
       "      <td>12.937222</td>\n",
       "      <td>77.626915</td>\n",
       "      <td>13.047926</td>\n",
       "      <td>77.597766</td>\n",
       "    </tr>\n",
       "    <tr>\n",
       "      <th>3</th>\n",
       "      <td>132515</td>\n",
       "      <td>13034</td>\n",
       "      <td>12</td>\n",
       "      <td>NaN</td>\n",
       "      <td>2</td>\n",
       "      <td>768.0</td>\n",
       "      <td>398.0</td>\n",
       "      <td>NaN</td>\n",
       "      <td>NaN</td>\n",
       "      <td>01-01-2013 05:45</td>\n",
       "      <td>0</td>\n",
       "      <td>0</td>\n",
       "      <td>01-01-2013 04:39</td>\n",
       "      <td>12.989990</td>\n",
       "      <td>77.553320</td>\n",
       "      <td>12.971430</td>\n",
       "      <td>77.639140</td>\n",
       "    </tr>\n",
       "    <tr>\n",
       "      <th>4</th>\n",
       "      <td>132517</td>\n",
       "      <td>22180</td>\n",
       "      <td>12</td>\n",
       "      <td>NaN</td>\n",
       "      <td>2</td>\n",
       "      <td>1365.0</td>\n",
       "      <td>849.0</td>\n",
       "      <td>NaN</td>\n",
       "      <td>NaN</td>\n",
       "      <td>01-01-2013 09:00</td>\n",
       "      <td>0</td>\n",
       "      <td>0</td>\n",
       "      <td>01-01-2013 07:53</td>\n",
       "      <td>12.845653</td>\n",
       "      <td>77.677925</td>\n",
       "      <td>12.954340</td>\n",
       "      <td>77.600720</td>\n",
       "    </tr>\n",
       "  </tbody>\n",
       "</table>\n",
       "</div>"
      ],
      "text/plain": [
       "       id  user_id  vehicle_model_id  package_id  travel_type_id  \\\n",
       "0  132512    22177                28         NaN               2   \n",
       "1  132513    21413                12         NaN               2   \n",
       "2  132514    22178                12         NaN               2   \n",
       "3  132515    13034                12         NaN               2   \n",
       "4  132517    22180                12         NaN               2   \n",
       "\n",
       "   from_area_id  to_area_id  from_city_id  to_city_id         from_date  \\\n",
       "0          83.0       448.0           NaN         NaN  01-01-2013 02:00   \n",
       "1        1010.0       540.0           NaN         NaN  01-01-2013 09:00   \n",
       "2        1301.0      1034.0           NaN         NaN  01-01-2013 03:30   \n",
       "3         768.0       398.0           NaN         NaN  01-01-2013 05:45   \n",
       "4        1365.0       849.0           NaN         NaN  01-01-2013 09:00   \n",
       "\n",
       "   online_booking  mobile_site_booking   booking_created   from_lat  \\\n",
       "0               0                    0  01-01-2013 01:39  12.924150   \n",
       "1               0                    0  01-01-2013 02:25  12.966910   \n",
       "2               0                    0  01-01-2013 03:08  12.937222   \n",
       "3               0                    0  01-01-2013 04:39  12.989990   \n",
       "4               0                    0  01-01-2013 07:53  12.845653   \n",
       "\n",
       "   from_long     to_lat    to_long  \n",
       "0  77.672290  12.927320  77.635750  \n",
       "1  77.749350  12.927680  77.626640  \n",
       "2  77.626915  13.047926  77.597766  \n",
       "3  77.553320  12.971430  77.639140  \n",
       "4  77.677925  12.954340  77.600720  "
      ]
     },
     "execution_count": 6,
     "metadata": {},
     "output_type": "execute_result"
    }
   ],
   "source": [
    "x.head()"
   ]
  },
  {
   "cell_type": "code",
   "execution_count": 7,
   "id": "e052d8fd",
   "metadata": {},
   "outputs": [
    {
     "name": "stdout",
     "output_type": "stream",
     "text": [
      "<class 'pandas.core.frame.DataFrame'>\n",
      "RangeIndex: 43431 entries, 0 to 43430\n",
      "Data columns (total 17 columns):\n",
      " #   Column               Non-Null Count  Dtype  \n",
      "---  ------               --------------  -----  \n",
      " 0   id                   43431 non-null  int64  \n",
      " 1   user_id              43431 non-null  int64  \n",
      " 2   vehicle_model_id     43431 non-null  int64  \n",
      " 3   package_id           7550 non-null   float64\n",
      " 4   travel_type_id       43431 non-null  int64  \n",
      " 5   from_area_id         43343 non-null  float64\n",
      " 6   to_area_id           34293 non-null  float64\n",
      " 7   from_city_id         16345 non-null  float64\n",
      " 8   to_city_id           1588 non-null   float64\n",
      " 9   from_date            43431 non-null  object \n",
      " 10  online_booking       43431 non-null  int64  \n",
      " 11  mobile_site_booking  43431 non-null  int64  \n",
      " 12  booking_created      43431 non-null  object \n",
      " 13  from_lat             43338 non-null  float64\n",
      " 14  from_long            43338 non-null  float64\n",
      " 15  to_lat               34293 non-null  float64\n",
      " 16  to_long              34293 non-null  float64\n",
      "dtypes: float64(9), int64(6), object(2)\n",
      "memory usage: 5.6+ MB\n"
     ]
    }
   ],
   "source": [
    "x.info()"
   ]
  },
  {
   "cell_type": "markdown",
   "id": "b1589788",
   "metadata": {},
   "source": [
    "\n"
   ]
  },
  {
   "cell_type": "code",
   "execution_count": 8,
   "id": "aee0d60c",
   "metadata": {},
   "outputs": [
    {
     "data": {
      "text/html": [
       "<div>\n",
       "<style scoped>\n",
       "    .dataframe tbody tr th:only-of-type {\n",
       "        vertical-align: middle;\n",
       "    }\n",
       "\n",
       "    .dataframe tbody tr th {\n",
       "        vertical-align: top;\n",
       "    }\n",
       "\n",
       "    .dataframe thead th {\n",
       "        text-align: right;\n",
       "    }\n",
       "</style>\n",
       "<table border=\"1\" class=\"dataframe\">\n",
       "  <thead>\n",
       "    <tr style=\"text-align: right;\">\n",
       "      <th></th>\n",
       "      <th>Car_Cancellation</th>\n",
       "    </tr>\n",
       "  </thead>\n",
       "  <tbody>\n",
       "    <tr>\n",
       "      <th>0</th>\n",
       "      <td>0</td>\n",
       "    </tr>\n",
       "    <tr>\n",
       "      <th>1</th>\n",
       "      <td>0</td>\n",
       "    </tr>\n",
       "    <tr>\n",
       "      <th>2</th>\n",
       "      <td>0</td>\n",
       "    </tr>\n",
       "    <tr>\n",
       "      <th>3</th>\n",
       "      <td>0</td>\n",
       "    </tr>\n",
       "    <tr>\n",
       "      <th>4</th>\n",
       "      <td>0</td>\n",
       "    </tr>\n",
       "  </tbody>\n",
       "</table>\n",
       "</div>"
      ],
      "text/plain": [
       "   Car_Cancellation\n",
       "0                 0\n",
       "1                 0\n",
       "2                 0\n",
       "3                 0\n",
       "4                 0"
      ]
     },
     "execution_count": 8,
     "metadata": {},
     "output_type": "execute_result"
    }
   ],
   "source": [
    "y.head()"
   ]
  },
  {
   "cell_type": "code",
   "execution_count": 9,
   "id": "3a851688",
   "metadata": {},
   "outputs": [
    {
     "name": "stdout",
     "output_type": "stream",
     "text": [
      "<class 'pandas.core.frame.DataFrame'>\n",
      "RangeIndex: 43431 entries, 0 to 43430\n",
      "Data columns (total 17 columns):\n",
      " #   Column               Non-Null Count  Dtype  \n",
      "---  ------               --------------  -----  \n",
      " 0   id                   43431 non-null  int64  \n",
      " 1   user_id              43431 non-null  int64  \n",
      " 2   vehicle_model_id     43431 non-null  int64  \n",
      " 3   package_id           7550 non-null   float64\n",
      " 4   travel_type_id       43431 non-null  int64  \n",
      " 5   from_area_id         43343 non-null  float64\n",
      " 6   to_area_id           34293 non-null  float64\n",
      " 7   from_city_id         16345 non-null  float64\n",
      " 8   to_city_id           1588 non-null   float64\n",
      " 9   from_date            43431 non-null  object \n",
      " 10  online_booking       43431 non-null  int64  \n",
      " 11  mobile_site_booking  43431 non-null  int64  \n",
      " 12  booking_created      43431 non-null  object \n",
      " 13  from_lat             43338 non-null  float64\n",
      " 14  from_long            43338 non-null  float64\n",
      " 15  to_lat               34293 non-null  float64\n",
      " 16  to_long              34293 non-null  float64\n",
      "dtypes: float64(9), int64(6), object(2)\n",
      "memory usage: 5.6+ MB\n"
     ]
    }
   ],
   "source": [
    "x.info()"
   ]
  },
  {
   "cell_type": "markdown",
   "id": "5ec50d00",
   "metadata": {},
   "source": [
    "# Checking for Missing Values¶\n"
   ]
  },
  {
   "cell_type": "code",
   "execution_count": 10,
   "id": "7711ec96",
   "metadata": {},
   "outputs": [
    {
     "data": {
      "text/plain": [
       "id                       0.00\n",
       "user_id                  0.00\n",
       "vehicle_model_id         0.00\n",
       "package_id             358.81\n",
       "travel_type_id           0.00\n",
       "from_area_id             0.88\n",
       "to_area_id              91.38\n",
       "from_city_id           270.86\n",
       "to_city_id             418.43\n",
       "from_date                0.00\n",
       "online_booking           0.00\n",
       "mobile_site_booking      0.00\n",
       "booking_created          0.00\n",
       "from_lat                 0.93\n",
       "from_long                0.93\n",
       "to_lat                  91.38\n",
       "to_long                 91.38\n",
       "dtype: float64"
      ]
     },
     "execution_count": 10,
     "metadata": {},
     "output_type": "execute_result"
    }
   ],
   "source": [
    "x.isnull().sum()/100"
   ]
  },
  {
   "cell_type": "markdown",
   "id": "44cf4582",
   "metadata": {},
   "source": [
    "#### DATA CLEANING"
   ]
  },
  {
   "cell_type": "code",
   "execution_count": 11,
   "id": "f806d751",
   "metadata": {},
   "outputs": [],
   "source": [
    "x=x.drop(['id','user_id','package_id','to_area_id','from_city_id','to_city_id'],axis=1)"
   ]
  },
  {
   "cell_type": "code",
   "execution_count": 12,
   "id": "f2354e56",
   "metadata": {},
   "outputs": [
    {
     "data": {
      "text/html": [
       "<div>\n",
       "<style scoped>\n",
       "    .dataframe tbody tr th:only-of-type {\n",
       "        vertical-align: middle;\n",
       "    }\n",
       "\n",
       "    .dataframe tbody tr th {\n",
       "        vertical-align: top;\n",
       "    }\n",
       "\n",
       "    .dataframe thead th {\n",
       "        text-align: right;\n",
       "    }\n",
       "</style>\n",
       "<table border=\"1\" class=\"dataframe\">\n",
       "  <thead>\n",
       "    <tr style=\"text-align: right;\">\n",
       "      <th></th>\n",
       "      <th>vehicle_model_id</th>\n",
       "      <th>travel_type_id</th>\n",
       "      <th>from_area_id</th>\n",
       "      <th>from_date</th>\n",
       "      <th>online_booking</th>\n",
       "      <th>mobile_site_booking</th>\n",
       "      <th>booking_created</th>\n",
       "      <th>from_lat</th>\n",
       "      <th>from_long</th>\n",
       "      <th>to_lat</th>\n",
       "      <th>to_long</th>\n",
       "    </tr>\n",
       "  </thead>\n",
       "  <tbody>\n",
       "    <tr>\n",
       "      <th>0</th>\n",
       "      <td>28</td>\n",
       "      <td>2</td>\n",
       "      <td>83.0</td>\n",
       "      <td>01-01-2013 02:00</td>\n",
       "      <td>0</td>\n",
       "      <td>0</td>\n",
       "      <td>01-01-2013 01:39</td>\n",
       "      <td>12.924150</td>\n",
       "      <td>77.672290</td>\n",
       "      <td>12.927320</td>\n",
       "      <td>77.635750</td>\n",
       "    </tr>\n",
       "    <tr>\n",
       "      <th>1</th>\n",
       "      <td>12</td>\n",
       "      <td>2</td>\n",
       "      <td>1010.0</td>\n",
       "      <td>01-01-2013 09:00</td>\n",
       "      <td>0</td>\n",
       "      <td>0</td>\n",
       "      <td>01-01-2013 02:25</td>\n",
       "      <td>12.966910</td>\n",
       "      <td>77.749350</td>\n",
       "      <td>12.927680</td>\n",
       "      <td>77.626640</td>\n",
       "    </tr>\n",
       "    <tr>\n",
       "      <th>2</th>\n",
       "      <td>12</td>\n",
       "      <td>2</td>\n",
       "      <td>1301.0</td>\n",
       "      <td>01-01-2013 03:30</td>\n",
       "      <td>0</td>\n",
       "      <td>0</td>\n",
       "      <td>01-01-2013 03:08</td>\n",
       "      <td>12.937222</td>\n",
       "      <td>77.626915</td>\n",
       "      <td>13.047926</td>\n",
       "      <td>77.597766</td>\n",
       "    </tr>\n",
       "    <tr>\n",
       "      <th>3</th>\n",
       "      <td>12</td>\n",
       "      <td>2</td>\n",
       "      <td>768.0</td>\n",
       "      <td>01-01-2013 05:45</td>\n",
       "      <td>0</td>\n",
       "      <td>0</td>\n",
       "      <td>01-01-2013 04:39</td>\n",
       "      <td>12.989990</td>\n",
       "      <td>77.553320</td>\n",
       "      <td>12.971430</td>\n",
       "      <td>77.639140</td>\n",
       "    </tr>\n",
       "    <tr>\n",
       "      <th>4</th>\n",
       "      <td>12</td>\n",
       "      <td>2</td>\n",
       "      <td>1365.0</td>\n",
       "      <td>01-01-2013 09:00</td>\n",
       "      <td>0</td>\n",
       "      <td>0</td>\n",
       "      <td>01-01-2013 07:53</td>\n",
       "      <td>12.845653</td>\n",
       "      <td>77.677925</td>\n",
       "      <td>12.954340</td>\n",
       "      <td>77.600720</td>\n",
       "    </tr>\n",
       "  </tbody>\n",
       "</table>\n",
       "</div>"
      ],
      "text/plain": [
       "   vehicle_model_id  travel_type_id  from_area_id         from_date  \\\n",
       "0                28               2          83.0  01-01-2013 02:00   \n",
       "1                12               2        1010.0  01-01-2013 09:00   \n",
       "2                12               2        1301.0  01-01-2013 03:30   \n",
       "3                12               2         768.0  01-01-2013 05:45   \n",
       "4                12               2        1365.0  01-01-2013 09:00   \n",
       "\n",
       "   online_booking  mobile_site_booking   booking_created   from_lat  \\\n",
       "0               0                    0  01-01-2013 01:39  12.924150   \n",
       "1               0                    0  01-01-2013 02:25  12.966910   \n",
       "2               0                    0  01-01-2013 03:08  12.937222   \n",
       "3               0                    0  01-01-2013 04:39  12.989990   \n",
       "4               0                    0  01-01-2013 07:53  12.845653   \n",
       "\n",
       "   from_long     to_lat    to_long  \n",
       "0  77.672290  12.927320  77.635750  \n",
       "1  77.749350  12.927680  77.626640  \n",
       "2  77.626915  13.047926  77.597766  \n",
       "3  77.553320  12.971430  77.639140  \n",
       "4  77.677925  12.954340  77.600720  "
      ]
     },
     "execution_count": 12,
     "metadata": {},
     "output_type": "execute_result"
    }
   ],
   "source": [
    "\n",
    "x.head()"
   ]
  },
  {
   "cell_type": "code",
   "execution_count": 13,
   "id": "8cbe7a39",
   "metadata": {},
   "outputs": [
    {
     "data": {
      "text/plain": [
       "27"
      ]
     },
     "execution_count": 13,
     "metadata": {},
     "output_type": "execute_result"
    }
   ],
   "source": [
    "x['vehicle_model_id'].nunique()"
   ]
  },
  {
   "cell_type": "code",
   "execution_count": 14,
   "id": "48c57657",
   "metadata": {},
   "outputs": [
    {
     "data": {
      "text/plain": [
       "vehicle_model_id\n",
       "12    73.355437\n",
       "85     5.542124\n",
       "89     5.505284\n",
       "65     4.402385\n",
       "28     3.918860\n",
       "24     3.439939\n",
       "87     1.300914\n",
       "90     0.718381\n",
       "23     0.683843\n",
       "86     0.283208\n",
       "10     0.239460\n",
       "64     0.195713\n",
       "54     0.168083\n",
       "17     0.092100\n",
       "91     0.057563\n",
       "30     0.032235\n",
       "36     0.020723\n",
       "13     0.016118\n",
       "72     0.004605\n",
       "1      0.004605\n",
       "43     0.004605\n",
       "14     0.002303\n",
       "69     0.002303\n",
       "76     0.002303\n",
       "75     0.002303\n",
       "70     0.002303\n",
       "39     0.002303\n",
       "Name: proportion, dtype: float64"
      ]
     },
     "execution_count": 14,
     "metadata": {},
     "output_type": "execute_result"
    }
   ],
   "source": [
    "x['vehicle_model_id'].value_counts(normalize=True)*100"
   ]
  },
  {
   "cell_type": "code",
   "execution_count": 15,
   "id": "e1a73565",
   "metadata": {},
   "outputs": [],
   "source": [
    "x=x.drop(['vehicle_model_id'],axis=1)"
   ]
  },
  {
   "cell_type": "code",
   "execution_count": 16,
   "id": "00625184",
   "metadata": {},
   "outputs": [
    {
     "data": {
      "text/html": [
       "<div>\n",
       "<style scoped>\n",
       "    .dataframe tbody tr th:only-of-type {\n",
       "        vertical-align: middle;\n",
       "    }\n",
       "\n",
       "    .dataframe tbody tr th {\n",
       "        vertical-align: top;\n",
       "    }\n",
       "\n",
       "    .dataframe thead th {\n",
       "        text-align: right;\n",
       "    }\n",
       "</style>\n",
       "<table border=\"1\" class=\"dataframe\">\n",
       "  <thead>\n",
       "    <tr style=\"text-align: right;\">\n",
       "      <th></th>\n",
       "      <th>travel_type_id</th>\n",
       "      <th>from_area_id</th>\n",
       "      <th>from_date</th>\n",
       "      <th>online_booking</th>\n",
       "      <th>mobile_site_booking</th>\n",
       "      <th>booking_created</th>\n",
       "      <th>from_lat</th>\n",
       "      <th>from_long</th>\n",
       "      <th>to_lat</th>\n",
       "      <th>to_long</th>\n",
       "    </tr>\n",
       "  </thead>\n",
       "  <tbody>\n",
       "    <tr>\n",
       "      <th>0</th>\n",
       "      <td>2</td>\n",
       "      <td>83.0</td>\n",
       "      <td>01-01-2013 02:00</td>\n",
       "      <td>0</td>\n",
       "      <td>0</td>\n",
       "      <td>01-01-2013 01:39</td>\n",
       "      <td>12.924150</td>\n",
       "      <td>77.672290</td>\n",
       "      <td>12.927320</td>\n",
       "      <td>77.635750</td>\n",
       "    </tr>\n",
       "    <tr>\n",
       "      <th>1</th>\n",
       "      <td>2</td>\n",
       "      <td>1010.0</td>\n",
       "      <td>01-01-2013 09:00</td>\n",
       "      <td>0</td>\n",
       "      <td>0</td>\n",
       "      <td>01-01-2013 02:25</td>\n",
       "      <td>12.966910</td>\n",
       "      <td>77.749350</td>\n",
       "      <td>12.927680</td>\n",
       "      <td>77.626640</td>\n",
       "    </tr>\n",
       "    <tr>\n",
       "      <th>2</th>\n",
       "      <td>2</td>\n",
       "      <td>1301.0</td>\n",
       "      <td>01-01-2013 03:30</td>\n",
       "      <td>0</td>\n",
       "      <td>0</td>\n",
       "      <td>01-01-2013 03:08</td>\n",
       "      <td>12.937222</td>\n",
       "      <td>77.626915</td>\n",
       "      <td>13.047926</td>\n",
       "      <td>77.597766</td>\n",
       "    </tr>\n",
       "    <tr>\n",
       "      <th>3</th>\n",
       "      <td>2</td>\n",
       "      <td>768.0</td>\n",
       "      <td>01-01-2013 05:45</td>\n",
       "      <td>0</td>\n",
       "      <td>0</td>\n",
       "      <td>01-01-2013 04:39</td>\n",
       "      <td>12.989990</td>\n",
       "      <td>77.553320</td>\n",
       "      <td>12.971430</td>\n",
       "      <td>77.639140</td>\n",
       "    </tr>\n",
       "    <tr>\n",
       "      <th>4</th>\n",
       "      <td>2</td>\n",
       "      <td>1365.0</td>\n",
       "      <td>01-01-2013 09:00</td>\n",
       "      <td>0</td>\n",
       "      <td>0</td>\n",
       "      <td>01-01-2013 07:53</td>\n",
       "      <td>12.845653</td>\n",
       "      <td>77.677925</td>\n",
       "      <td>12.954340</td>\n",
       "      <td>77.600720</td>\n",
       "    </tr>\n",
       "  </tbody>\n",
       "</table>\n",
       "</div>"
      ],
      "text/plain": [
       "   travel_type_id  from_area_id         from_date  online_booking  \\\n",
       "0               2          83.0  01-01-2013 02:00               0   \n",
       "1               2        1010.0  01-01-2013 09:00               0   \n",
       "2               2        1301.0  01-01-2013 03:30               0   \n",
       "3               2         768.0  01-01-2013 05:45               0   \n",
       "4               2        1365.0  01-01-2013 09:00               0   \n",
       "\n",
       "   mobile_site_booking   booking_created   from_lat  from_long     to_lat  \\\n",
       "0                    0  01-01-2013 01:39  12.924150  77.672290  12.927320   \n",
       "1                    0  01-01-2013 02:25  12.966910  77.749350  12.927680   \n",
       "2                    0  01-01-2013 03:08  12.937222  77.626915  13.047926   \n",
       "3                    0  01-01-2013 04:39  12.989990  77.553320  12.971430   \n",
       "4                    0  01-01-2013 07:53  12.845653  77.677925  12.954340   \n",
       "\n",
       "     to_long  \n",
       "0  77.635750  \n",
       "1  77.626640  \n",
       "2  77.597766  \n",
       "3  77.639140  \n",
       "4  77.600720  "
      ]
     },
     "execution_count": 16,
     "metadata": {},
     "output_type": "execute_result"
    }
   ],
   "source": [
    "x.head()"
   ]
  },
  {
   "cell_type": "markdown",
   "id": "d7d0638d",
   "metadata": {},
   "source": [
    "# Data Transformation"
   ]
  },
  {
   "cell_type": "code",
   "execution_count": 17,
   "id": "c6e123ce",
   "metadata": {},
   "outputs": [
    {
     "name": "stdout",
     "output_type": "stream",
     "text": [
      "1044.0\n",
      "12.968887\n",
      "77.63575\n"
     ]
    }
   ],
   "source": [
    "print(x[x['from_lat'] == x['from_lat'].median()]['from_area_id'].max())\n",
    "print(x['from_lat'].median())\n",
    "print(x['from_long'].median())"
   ]
  },
  {
   "cell_type": "code",
   "execution_count": 18,
   "id": "cbd8d0b1",
   "metadata": {},
   "outputs": [
    {
     "data": {
      "text/plain": [
       "276      1044.0\n",
       "277      1044.0\n",
       "1517     1044.0\n",
       "1668     1044.0\n",
       "3057     1044.0\n",
       "3628     1044.0\n",
       "3826     1044.0\n",
       "4255     1044.0\n",
       "4365     1044.0\n",
       "4619     1044.0\n",
       "4832     1044.0\n",
       "4988     1044.0\n",
       "5179     1044.0\n",
       "7284     1044.0\n",
       "7518     1044.0\n",
       "7694     1044.0\n",
       "8054     1044.0\n",
       "8302     1044.0\n",
       "8401     1044.0\n",
       "10858    1044.0\n",
       "11199    1044.0\n",
       "11202    1044.0\n",
       "11244    1044.0\n",
       "14469    1044.0\n",
       "15858    1044.0\n",
       "15995    1044.0\n",
       "16915    1044.0\n",
       "16916    1044.0\n",
       "17959    1044.0\n",
       "18429    1044.0\n",
       "18658    1044.0\n",
       "21592    1044.0\n",
       "22055    1044.0\n",
       "25121    1044.0\n",
       "26336    1044.0\n",
       "29975    1044.0\n",
       "32812    1044.0\n",
       "35767    1044.0\n",
       "36869    1044.0\n",
       "37378    1044.0\n",
       "39314    1044.0\n",
       "40148    1044.0\n",
       "Name: from_area_id, dtype: float64"
      ]
     },
     "execution_count": 18,
     "metadata": {},
     "output_type": "execute_result"
    }
   ],
   "source": [
    "x[x['from_lat'] == x['from_lat'].median()]['from_area_id']"
   ]
  },
  {
   "cell_type": "markdown",
   "id": "b467f451",
   "metadata": {},
   "source": [
    "# Filling Missing values"
   ]
  },
  {
   "cell_type": "code",
   "execution_count": 19,
   "id": "25866943",
   "metadata": {},
   "outputs": [],
   "source": [
    "x['from_lat'].fillna(x['from_lat'].median(), inplace=True)\n",
    "x['from_long'].fillna(x['from_long'].median(), inplace=True)"
   ]
  },
  {
   "cell_type": "code",
   "execution_count": 20,
   "id": "6cdc12d0",
   "metadata": {},
   "outputs": [
    {
     "name": "stdout",
     "output_type": "stream",
     "text": [
      "<class 'pandas.core.frame.DataFrame'>\n",
      "RangeIndex: 43431 entries, 0 to 43430\n",
      "Data columns (total 10 columns):\n",
      " #   Column               Non-Null Count  Dtype  \n",
      "---  ------               --------------  -----  \n",
      " 0   travel_type_id       43431 non-null  int64  \n",
      " 1   from_area_id         43343 non-null  float64\n",
      " 2   from_date            43431 non-null  object \n",
      " 3   online_booking       43431 non-null  int64  \n",
      " 4   mobile_site_booking  43431 non-null  int64  \n",
      " 5   booking_created      43431 non-null  object \n",
      " 6   from_lat             43431 non-null  float64\n",
      " 7   from_long            43431 non-null  float64\n",
      " 8   to_lat               34293 non-null  float64\n",
      " 9   to_long              34293 non-null  float64\n",
      "dtypes: float64(5), int64(3), object(2)\n",
      "memory usage: 3.3+ MB\n"
     ]
    }
   ],
   "source": [
    "x.info()"
   ]
  },
  {
   "cell_type": "code",
   "execution_count": 21,
   "id": "b2f67343",
   "metadata": {},
   "outputs": [
    {
     "data": {
      "text/plain": [
       "0.88"
      ]
     },
     "execution_count": 21,
     "metadata": {},
     "output_type": "execute_result"
    }
   ],
   "source": [
    "x['from_area_id'].isnull().sum()/100"
   ]
  },
  {
   "cell_type": "code",
   "execution_count": 22,
   "id": "a5dbb006",
   "metadata": {},
   "outputs": [],
   "source": [
    "x['from_area_id'].fillna(x[x['from_lat'] == x['from_lat'].median()]['from_area_id'].max(), inplace=True)"
   ]
  },
  {
   "cell_type": "code",
   "execution_count": 23,
   "id": "52cabe0a",
   "metadata": {},
   "outputs": [
    {
     "data": {
      "text/plain": [
       "91.38"
      ]
     },
     "execution_count": 23,
     "metadata": {},
     "output_type": "execute_result"
    }
   ],
   "source": [
    "x['to_lat'].isnull().sum()/100"
   ]
  },
  {
   "cell_type": "code",
   "execution_count": 24,
   "id": "ac9cbfd0",
   "metadata": {},
   "outputs": [],
   "source": [
    "x['to_lat'].fillna(dataset.groupby('from_area_id')['to_lat'].transform('median'), inplace=True)"
   ]
  },
  {
   "cell_type": "code",
   "execution_count": 25,
   "id": "25dcbbe0",
   "metadata": {},
   "outputs": [
    {
     "data": {
      "text/plain": [
       "1.05"
      ]
     },
     "execution_count": 25,
     "metadata": {},
     "output_type": "execute_result"
    }
   ],
   "source": [
    "x['to_lat'].isnull().sum()/100"
   ]
  },
  {
   "cell_type": "code",
   "execution_count": 26,
   "id": "96ec2cbc",
   "metadata": {},
   "outputs": [
    {
     "data": {
      "text/plain": [
       "0    12.927320\n",
       "1    12.927680\n",
       "2    13.047926\n",
       "3    12.971430\n",
       "4    12.954340\n",
       "Name: to_lat, dtype: float64"
      ]
     },
     "execution_count": 26,
     "metadata": {},
     "output_type": "execute_result"
    }
   ],
   "source": [
    "x['to_lat'].head()"
   ]
  },
  {
   "cell_type": "code",
   "execution_count": 27,
   "id": "1e2cbf52",
   "metadata": {},
   "outputs": [],
   "source": [
    "x['to_long'] = x['to_long'].fillna(dataset.groupby('from_area_id')['to_long'].transform('median'))"
   ]
  },
  {
   "cell_type": "code",
   "execution_count": 28,
   "id": "ec55fe1e",
   "metadata": {},
   "outputs": [
    {
     "data": {
      "text/plain": [
       "0    77.635750\n",
       "1    77.626640\n",
       "2    77.597766\n",
       "3    77.639140\n",
       "4    77.600720\n",
       "Name: to_long, dtype: float64"
      ]
     },
     "execution_count": 28,
     "metadata": {},
     "output_type": "execute_result"
    }
   ],
   "source": [
    "x['to_long'].head()"
   ]
  },
  {
   "cell_type": "code",
   "execution_count": 29,
   "id": "09d08414",
   "metadata": {},
   "outputs": [
    {
     "data": {
      "text/html": [
       "<div>\n",
       "<style scoped>\n",
       "    .dataframe tbody tr th:only-of-type {\n",
       "        vertical-align: middle;\n",
       "    }\n",
       "\n",
       "    .dataframe tbody tr th {\n",
       "        vertical-align: top;\n",
       "    }\n",
       "\n",
       "    .dataframe thead th {\n",
       "        text-align: right;\n",
       "    }\n",
       "</style>\n",
       "<table border=\"1\" class=\"dataframe\">\n",
       "  <thead>\n",
       "    <tr style=\"text-align: right;\">\n",
       "      <th></th>\n",
       "      <th>travel_type_id</th>\n",
       "      <th>from_area_id</th>\n",
       "      <th>from_date</th>\n",
       "      <th>online_booking</th>\n",
       "      <th>mobile_site_booking</th>\n",
       "      <th>booking_created</th>\n",
       "      <th>from_lat</th>\n",
       "      <th>from_long</th>\n",
       "      <th>to_lat</th>\n",
       "      <th>to_long</th>\n",
       "    </tr>\n",
       "  </thead>\n",
       "  <tbody>\n",
       "    <tr>\n",
       "      <th>2158</th>\n",
       "      <td>1</td>\n",
       "      <td>483.0</td>\n",
       "      <td>1/25/2013 6:00</td>\n",
       "      <td>1</td>\n",
       "      <td>0</td>\n",
       "      <td>1/24/2013 15:32</td>\n",
       "      <td>12.953020</td>\n",
       "      <td>77.56333</td>\n",
       "      <td>NaN</td>\n",
       "      <td>NaN</td>\n",
       "    </tr>\n",
       "    <tr>\n",
       "      <th>3945</th>\n",
       "      <td>1</td>\n",
       "      <td>1397.0</td>\n",
       "      <td>02-10-2013 16:30</td>\n",
       "      <td>1</td>\n",
       "      <td>0</td>\n",
       "      <td>02-10-2013 13:26</td>\n",
       "      <td>12.968887</td>\n",
       "      <td>77.63575</td>\n",
       "      <td>NaN</td>\n",
       "      <td>NaN</td>\n",
       "    </tr>\n",
       "    <tr>\n",
       "      <th>4912</th>\n",
       "      <td>1</td>\n",
       "      <td>1397.0</td>\n",
       "      <td>2/23/2013 6:30</td>\n",
       "      <td>1</td>\n",
       "      <td>0</td>\n",
       "      <td>2/19/2013 21:29</td>\n",
       "      <td>12.968887</td>\n",
       "      <td>77.63575</td>\n",
       "      <td>NaN</td>\n",
       "      <td>NaN</td>\n",
       "    </tr>\n",
       "    <tr>\n",
       "      <th>5144</th>\n",
       "      <td>1</td>\n",
       "      <td>1397.0</td>\n",
       "      <td>2/22/2013 13:30</td>\n",
       "      <td>1</td>\n",
       "      <td>0</td>\n",
       "      <td>2/22/2013 10:22</td>\n",
       "      <td>12.968887</td>\n",
       "      <td>77.63575</td>\n",
       "      <td>NaN</td>\n",
       "      <td>NaN</td>\n",
       "    </tr>\n",
       "    <tr>\n",
       "      <th>5970</th>\n",
       "      <td>1</td>\n",
       "      <td>1397.0</td>\n",
       "      <td>03-04-2013 07:00</td>\n",
       "      <td>0</td>\n",
       "      <td>0</td>\n",
       "      <td>03-02-2013 17:48</td>\n",
       "      <td>12.968887</td>\n",
       "      <td>77.63575</td>\n",
       "      <td>NaN</td>\n",
       "      <td>NaN</td>\n",
       "    </tr>\n",
       "  </tbody>\n",
       "</table>\n",
       "</div>"
      ],
      "text/plain": [
       "      travel_type_id  from_area_id         from_date  online_booking  \\\n",
       "2158               1         483.0    1/25/2013 6:00               1   \n",
       "3945               1        1397.0  02-10-2013 16:30               1   \n",
       "4912               1        1397.0    2/23/2013 6:30               1   \n",
       "5144               1        1397.0   2/22/2013 13:30               1   \n",
       "5970               1        1397.0  03-04-2013 07:00               0   \n",
       "\n",
       "      mobile_site_booking   booking_created   from_lat  from_long  to_lat  \\\n",
       "2158                    0   1/24/2013 15:32  12.953020   77.56333     NaN   \n",
       "3945                    0  02-10-2013 13:26  12.968887   77.63575     NaN   \n",
       "4912                    0   2/19/2013 21:29  12.968887   77.63575     NaN   \n",
       "5144                    0   2/22/2013 10:22  12.968887   77.63575     NaN   \n",
       "5970                    0  03-02-2013 17:48  12.968887   77.63575     NaN   \n",
       "\n",
       "      to_long  \n",
       "2158      NaN  \n",
       "3945      NaN  \n",
       "4912      NaN  \n",
       "5144      NaN  \n",
       "5970      NaN  "
      ]
     },
     "execution_count": 29,
     "metadata": {},
     "output_type": "execute_result"
    }
   ],
   "source": [
    "x[x['to_lat'].isnull()].head()"
   ]
  },
  {
   "cell_type": "code",
   "execution_count": 30,
   "id": "95551f62",
   "metadata": {},
   "outputs": [
    {
     "data": {
      "text/plain": [
       "from_area_id\n",
       "1397.0    90\n",
       "1396.0     3\n",
       "173.0      2\n",
       "17.0       2\n",
       "483.0      1\n",
       "1215.0     1\n",
       "1265.0     1\n",
       "215.0      1\n",
       "1080.0     1\n",
       "802.0      1\n",
       "1164.0     1\n",
       "178.0      1\n",
       "Name: count, dtype: int64"
      ]
     },
     "execution_count": 30,
     "metadata": {},
     "output_type": "execute_result"
    }
   ],
   "source": [
    "x[x['to_lat'].isnull()]['from_area_id'].value_counts()"
   ]
  },
  {
   "cell_type": "code",
   "execution_count": 31,
   "id": "3ee20bdb",
   "metadata": {},
   "outputs": [],
   "source": [
    "x['to_lat'].fillna(x['to_lat'].median(), inplace=True)\n",
    "x['to_long'].fillna(x['to_long'].median(), inplace=True)"
   ]
  },
  {
   "cell_type": "markdown",
   "id": "3ea7e7e0",
   "metadata": {},
   "source": [
    "# Encoding"
   ]
  },
  {
   "cell_type": "code",
   "execution_count": 32,
   "id": "a27f1db9",
   "metadata": {},
   "outputs": [],
   "source": [
    "traveltype = pd.get_dummies(x['travel_type_id'],drop_first=True)"
   ]
  },
  {
   "cell_type": "code",
   "execution_count": 33,
   "id": "2205eda8",
   "metadata": {},
   "outputs": [],
   "source": [
    "x = pd.concat([x,traveltype],axis=1)\n",
    "x = x.drop(['travel_type_id'],axis=1)"
   ]
  },
  {
   "cell_type": "code",
   "execution_count": 34,
   "id": "d7aa4a5e",
   "metadata": {},
   "outputs": [],
   "source": [
    "x.rename(columns={2:'traveltype_pointtopoint',3:'traveltype_hourly'},inplace=True)"
   ]
  },
  {
   "cell_type": "code",
   "execution_count": 35,
   "id": "6db54636",
   "metadata": {},
   "outputs": [
    {
     "name": "stdout",
     "output_type": "stream",
     "text": [
      "Requirement already satisfied: geopy in c:\\users\\91702\\anaconda3\\lib\\site-packages (2.4.1)\n",
      "Requirement already satisfied: geographiclib<3,>=1.52 in c:\\users\\91702\\anaconda3\\lib\\site-packages (from geopy) (2.0)\n",
      "Note: you may need to restart the kernel to use updated packages.\n"
     ]
    }
   ],
   "source": [
    "pip install geopy\n"
   ]
  },
  {
   "cell_type": "code",
   "execution_count": 36,
   "id": "1df95e8e",
   "metadata": {},
   "outputs": [],
   "source": [
    "from geopy import distance"
   ]
  },
  {
   "cell_type": "code",
   "execution_count": null,
   "id": "52e8e163",
   "metadata": {},
   "outputs": [],
   "source": []
  },
  {
   "cell_type": "code",
   "execution_count": 37,
   "id": "f4716e85",
   "metadata": {},
   "outputs": [],
   "source": [
    "def cal_distance(from_lat,from_long,to_lat,to_long):\n",
    "  return distance.distance((from_lat,from_long),(to_lat,to_long)).km"
   ]
  },
  {
   "cell_type": "code",
   "execution_count": 38,
   "id": "522fdb0f",
   "metadata": {},
   "outputs": [],
   "source": [
    "x['distance'] = x.apply(lambda row: cal_distance(row['from_lat'],row['from_long'],row['to_lat'],row['to_long']),axis=1)"
   ]
  },
  {
   "cell_type": "code",
   "execution_count": 39,
   "id": "b25f2427",
   "metadata": {},
   "outputs": [],
   "source": [
    "x = x.drop(['from_lat','from_long','to_lat','to_long'],axis=1)"
   ]
  },
  {
   "cell_type": "code",
   "execution_count": 40,
   "id": "ec901199",
   "metadata": {},
   "outputs": [
    {
     "data": {
      "text/html": [
       "<div>\n",
       "<style scoped>\n",
       "    .dataframe tbody tr th:only-of-type {\n",
       "        vertical-align: middle;\n",
       "    }\n",
       "\n",
       "    .dataframe tbody tr th {\n",
       "        vertical-align: top;\n",
       "    }\n",
       "\n",
       "    .dataframe thead th {\n",
       "        text-align: right;\n",
       "    }\n",
       "</style>\n",
       "<table border=\"1\" class=\"dataframe\">\n",
       "  <thead>\n",
       "    <tr style=\"text-align: right;\">\n",
       "      <th></th>\n",
       "      <th>from_area_id</th>\n",
       "      <th>from_date</th>\n",
       "      <th>online_booking</th>\n",
       "      <th>mobile_site_booking</th>\n",
       "      <th>booking_created</th>\n",
       "      <th>traveltype_pointtopoint</th>\n",
       "      <th>traveltype_hourly</th>\n",
       "      <th>distance</th>\n",
       "    </tr>\n",
       "  </thead>\n",
       "  <tbody>\n",
       "    <tr>\n",
       "      <th>0</th>\n",
       "      <td>83.0</td>\n",
       "      <td>01-01-2013 02:00</td>\n",
       "      <td>0</td>\n",
       "      <td>0</td>\n",
       "      <td>01-01-2013 01:39</td>\n",
       "      <td>True</td>\n",
       "      <td>False</td>\n",
       "      <td>3.980687</td>\n",
       "    </tr>\n",
       "    <tr>\n",
       "      <th>1</th>\n",
       "      <td>1010.0</td>\n",
       "      <td>01-01-2013 09:00</td>\n",
       "      <td>0</td>\n",
       "      <td>0</td>\n",
       "      <td>01-01-2013 02:25</td>\n",
       "      <td>True</td>\n",
       "      <td>False</td>\n",
       "      <td>14.004432</td>\n",
       "    </tr>\n",
       "    <tr>\n",
       "      <th>2</th>\n",
       "      <td>1301.0</td>\n",
       "      <td>01-01-2013 03:30</td>\n",
       "      <td>0</td>\n",
       "      <td>0</td>\n",
       "      <td>01-01-2013 03:08</td>\n",
       "      <td>True</td>\n",
       "      <td>False</td>\n",
       "      <td>12.648909</td>\n",
       "    </tr>\n",
       "    <tr>\n",
       "      <th>3</th>\n",
       "      <td>768.0</td>\n",
       "      <td>01-01-2013 05:45</td>\n",
       "      <td>0</td>\n",
       "      <td>0</td>\n",
       "      <td>01-01-2013 04:39</td>\n",
       "      <td>True</td>\n",
       "      <td>False</td>\n",
       "      <td>9.534596</td>\n",
       "    </tr>\n",
       "    <tr>\n",
       "      <th>4</th>\n",
       "      <td>1365.0</td>\n",
       "      <td>01-01-2013 09:00</td>\n",
       "      <td>0</td>\n",
       "      <td>0</td>\n",
       "      <td>01-01-2013 07:53</td>\n",
       "      <td>True</td>\n",
       "      <td>False</td>\n",
       "      <td>14.655467</td>\n",
       "    </tr>\n",
       "  </tbody>\n",
       "</table>\n",
       "</div>"
      ],
      "text/plain": [
       "   from_area_id         from_date  online_booking  mobile_site_booking  \\\n",
       "0          83.0  01-01-2013 02:00               0                    0   \n",
       "1        1010.0  01-01-2013 09:00               0                    0   \n",
       "2        1301.0  01-01-2013 03:30               0                    0   \n",
       "3         768.0  01-01-2013 05:45               0                    0   \n",
       "4        1365.0  01-01-2013 09:00               0                    0   \n",
       "\n",
       "    booking_created  traveltype_pointtopoint  traveltype_hourly   distance  \n",
       "0  01-01-2013 01:39                     True              False   3.980687  \n",
       "1  01-01-2013 02:25                     True              False  14.004432  \n",
       "2  01-01-2013 03:08                     True              False  12.648909  \n",
       "3  01-01-2013 04:39                     True              False   9.534596  \n",
       "4  01-01-2013 07:53                     True              False  14.655467  "
      ]
     },
     "execution_count": 40,
     "metadata": {},
     "output_type": "execute_result"
    }
   ],
   "source": [
    "x.head()"
   ]
  },
  {
   "cell_type": "code",
   "execution_count": 41,
   "id": "6e8beda1",
   "metadata": {},
   "outputs": [
    {
     "name": "stdout",
     "output_type": "stream",
     "text": [
      "<class 'pandas.core.frame.DataFrame'>\n",
      "RangeIndex: 43431 entries, 0 to 43430\n",
      "Data columns (total 8 columns):\n",
      " #   Column                   Non-Null Count  Dtype  \n",
      "---  ------                   --------------  -----  \n",
      " 0   from_area_id             43431 non-null  float64\n",
      " 1   from_date                43431 non-null  object \n",
      " 2   online_booking           43431 non-null  int64  \n",
      " 3   mobile_site_booking      43431 non-null  int64  \n",
      " 4   booking_created          43431 non-null  object \n",
      " 5   traveltype_pointtopoint  43431 non-null  bool   \n",
      " 6   traveltype_hourly        43431 non-null  bool   \n",
      " 7   distance                 43431 non-null  float64\n",
      "dtypes: bool(2), float64(2), int64(2), object(2)\n",
      "memory usage: 2.1+ MB\n"
     ]
    }
   ],
   "source": [
    "x.info()"
   ]
  },
  {
   "cell_type": "markdown",
   "id": "8eb0829f",
   "metadata": {},
   "source": [
    "# Extracting date and time from timestamp"
   ]
  },
  {
   "cell_type": "code",
   "execution_count": 42,
   "id": "ddd98f31",
   "metadata": {},
   "outputs": [],
   "source": [
    "x['from_date_dt'] = pd.to_datetime(x['from_date'], errors='coerce',infer_datetime_format=True).dt.strftime('%m/%d/%Y')\n",
    "x['from_time_tm'] = pd.to_datetime(x['from_date'], errors='coerce',infer_datetime_format=True).dt.strftime('%H:%M')\n",
    "x['booking_created_dt'] = pd.to_datetime(x['booking_created'],errors='coerce',infer_datetime_format=True).dt.strftime('%m/%d/%Y')\n",
    "x['booking_created_tm'] = pd.to_datetime(x['booking_created'],errors='coerce',infer_datetime_format=True).dt.strftime('%H:%M')"
   ]
  },
  {
   "cell_type": "code",
   "execution_count": 43,
   "id": "5f0641c9",
   "metadata": {},
   "outputs": [
    {
     "name": "stdout",
     "output_type": "stream",
     "text": [
      "0        01/01/2013\n",
      "1        01/01/2013\n",
      "2        01/01/2013\n",
      "3        01/01/2013\n",
      "4        01/01/2013\n",
      "            ...    \n",
      "43426    11/24/2013\n",
      "43427    11/26/2013\n",
      "43428    11/24/2013\n",
      "43429    11/24/2013\n",
      "43430    11/25/2013\n",
      "Name: from_date_dt, Length: 43431, dtype: object\n"
     ]
    }
   ],
   "source": [
    "import pandas as pd\n",
    "from dateutil import parser\n",
    "\n",
    "# Custom function to handle multiple date formats\n",
    "def parse_and_format_date(date_str):\n",
    "    if pd.isna(date_str):  # Handle NaN values\n",
    "        return pd.NaT\n",
    "    try:\n",
    "        # Attempt to parse the date string using dateutil.parser\n",
    "        parsed_date = parser.parse(date_str, fuzzy=True)\n",
    "        return parsed_date.strftime('%m/%d/%Y')\n",
    "    except (ValueError, TypeError):\n",
    "        return pd.NaT  # Return NaT if parsing fails\n",
    "\n",
    "# Example DataFrame\n",
    "\n",
    "\n",
    "# Apply the custom function to the 'from_date' column\n",
    "x['from_date_dt'] = x['from_date'].apply(parse_and_format_date)\n",
    "\n",
    "# Print the DataFrame\n",
    "print(x['from_date_dt'])\n"
   ]
  },
  {
   "cell_type": "code",
   "execution_count": 44,
   "id": "551cc500",
   "metadata": {},
   "outputs": [
    {
     "name": "stdout",
     "output_type": "stream",
     "text": [
      "0        02:00\n",
      "1        09:00\n",
      "2        03:30\n",
      "3        05:45\n",
      "4        09:00\n",
      "         ...  \n",
      "43426    18:00\n",
      "43427    01:00\n",
      "43428    18:30\n",
      "43429    16:00\n",
      "43430    05:00\n",
      "Name: from_time_tm, Length: 43431, dtype: object\n"
     ]
    }
   ],
   "source": [
    "import pandas as pd\n",
    "from dateutil import parser\n",
    "\n",
    "# Custom function to handle multiple date formats and extract time\n",
    "def extract_time(date_str):\n",
    "    if pd.isna(date_str):  # Handle NaN values\n",
    "        return pd.NaT\n",
    "    try:\n",
    "        # Attempt to parse the date string using dateutil.parser\n",
    "        parsed_date = parser.parse(date_str, fuzzy=True)\n",
    "        # Return the time part in HH:MM format\n",
    "        return parsed_date.strftime('%H:%M')\n",
    "    except (ValueError, TypeError):\n",
    "        return pd.NaT  # Return NaT if parsing fails\n",
    "\n",
    "# Example DataFrame\n",
    "\n",
    "\n",
    "# Apply the custom function to extract time from 'from_date'\n",
    "x['from_time_tm'] = x['from_date'].apply(extract_time)\n",
    "\n",
    "# Print the DataFrame\n",
    "print(x['from_time_tm'])\n"
   ]
  },
  {
   "cell_type": "code",
   "execution_count": 45,
   "id": "505cfdef",
   "metadata": {},
   "outputs": [
    {
     "name": "stdout",
     "output_type": "stream",
     "text": [
      "0        01/01/2013\n",
      "1        01/01/2013\n",
      "2        01/01/2013\n",
      "3        01/01/2013\n",
      "4        01/01/2013\n",
      "            ...    \n",
      "43426    11/24/2013\n",
      "43427    11/24/2013\n",
      "43428    11/24/2013\n",
      "43429    11/24/2013\n",
      "43430    11/24/2013\n",
      "Name: booking_created_dt, Length: 43431, dtype: object\n"
     ]
    }
   ],
   "source": [
    "import pandas as pd\n",
    "from dateutil import parser\n",
    "\n",
    "# Custom function to handle multiple date formats\n",
    "def parse_and_format_date(date_str):\n",
    "    if pd.isna(date_str):  # Handle NaN values\n",
    "        return pd.NaT\n",
    "    try:\n",
    "        # Attempt to parse the date string using dateutil.parser\n",
    "        parsed_date = parser.parse(date_str, fuzzy=True)\n",
    "        return parsed_date.strftime('%m/%d/%Y')\n",
    "    except (ValueError, TypeError):\n",
    "        return pd.NaT  # Return NaT if parsing fails\n",
    "\n",
    "# Example DataFrame\n",
    "\n",
    "\n",
    "# Apply the custom function to the 'from_date' column\n",
    "x['booking_created_dt'] = x['booking_created'].apply(parse_and_format_date)\n",
    "\n",
    "# Print the DataFrame\n",
    "print(x['booking_created_dt'])"
   ]
  },
  {
   "cell_type": "code",
   "execution_count": 46,
   "id": "52702ab5",
   "metadata": {},
   "outputs": [
    {
     "name": "stdout",
     "output_type": "stream",
     "text": [
      "0        01:39\n",
      "1        02:25\n",
      "2        03:08\n",
      "3        04:39\n",
      "4        07:53\n",
      "         ...  \n",
      "43426    14:25\n",
      "43427    14:30\n",
      "43428    14:35\n",
      "43429    14:43\n",
      "43430    14:50\n",
      "Name: booking_created_tm, Length: 43431, dtype: object\n"
     ]
    }
   ],
   "source": [
    "import pandas as pd\n",
    "from dateutil import parser\n",
    "\n",
    "# Custom function to handle multiple date formats and extract time\n",
    "def extract_time(date_str):\n",
    "    if pd.isna(date_str):  # Handle NaN values\n",
    "        return pd.NaT\n",
    "    try:\n",
    "        # Attempt to parse the date string using dateutil.parser\n",
    "        parsed_date = parser.parse(date_str, fuzzy=True)\n",
    "        # Return the time part in HH:MM format\n",
    "        return parsed_date.strftime('%H:%M')\n",
    "    except (ValueError, TypeError):\n",
    "        return pd.NaT  # Return NaT if parsing fails\n",
    "\n",
    "# Example DataFrame\n",
    "\n",
    "\n",
    "# Apply the custom function to extract time from 'from_date'\n",
    "x['booking_created_tm'] = x['booking_created'].apply(extract_time)\n",
    "\n",
    "# Print the DataFrame\n",
    "print(x['booking_created_tm'])"
   ]
  },
  {
   "cell_type": "code",
   "execution_count": 47,
   "id": "d10165fa",
   "metadata": {},
   "outputs": [
    {
     "data": {
      "text/plain": [
       "0        02:00\n",
       "1        09:00\n",
       "2        03:30\n",
       "3        05:45\n",
       "4        09:00\n",
       "         ...  \n",
       "43426    18:00\n",
       "43427    01:00\n",
       "43428    18:30\n",
       "43429    16:00\n",
       "43430    05:00\n",
       "Name: from_time_tm, Length: 43431, dtype: object"
      ]
     },
     "execution_count": 47,
     "metadata": {},
     "output_type": "execute_result"
    }
   ],
   "source": [
    "\n",
    "x['from_time_tm']"
   ]
  },
  {
   "cell_type": "code",
   "execution_count": 48,
   "id": "f56b9317",
   "metadata": {},
   "outputs": [],
   "source": [
    "x['from_date_day'] = pd.to_datetime(x['from_date_dt']).dt.day_name()\n",
    "x['booking_created_day'] = pd.to_datetime(x['booking_created_dt']).dt.day_name()\n",
    "x['from_date_month'] = pd.to_datetime(x['from_date_dt']).dt.month_name()\n",
    "x['booking_created_month'] = pd.to_datetime(x['booking_created_dt']).dt.month_name()\n",
    "x['from_date_week'] = np.where((x['from_date_day']=='Saturday') | (x['from_date_day']=='Sunday'),'Weekend','Weekday')\n",
    "x['booking_created_week'] = np.where((x['booking_created_day']=='Saturday') | (x['booking_created_day']=='Sunday'),'Weekend','Weekday')"
   ]
  },
  {
   "cell_type": "code",
   "execution_count": 49,
   "id": "e6441fcc",
   "metadata": {},
   "outputs": [],
   "source": [
    "cond = [(pd.to_datetime(x['from_time_tm']).dt.hour.between(5, 8)),\n",
    "        (pd.to_datetime(x['from_time_tm']).dt.hour.between(9, 12)),\n",
    "        (pd.to_datetime(x['from_time_tm']).dt.hour.between(13, 16)),\n",
    "        (pd.to_datetime(x['from_time_tm']).dt.hour.between(17, 20)),\n",
    "        ((pd.to_datetime(x['from_time_tm']).dt.hour.between(21, 24)) | (pd.to_datetime(x['from_time_tm']).dt.hour==0)),\n",
    "        (pd.to_datetime(x['from_time_tm']).dt.hour.between(1, 4))]\n",
    "values = ['Early Morning','Morning','Afternoon','Evening','Night','Late Night']\n",
    "x['from_date_session'] = np.select(cond,values)"
   ]
  },
  {
   "cell_type": "code",
   "execution_count": 50,
   "id": "d4554410",
   "metadata": {},
   "outputs": [],
   "source": [
    "cond = [(pd.to_datetime(x['booking_created_tm']).dt.hour.between(5, 8)),\n",
    "        (pd.to_datetime(x['booking_created_tm']).dt.hour.between(9, 12)),\n",
    "        (pd.to_datetime(x['booking_created_tm']).dt.hour.between(13, 16)),\n",
    "        (pd.to_datetime(x['booking_created_tm']).dt.hour.between(17, 20)),\n",
    "        ((pd.to_datetime(x['booking_created_tm']).dt.hour.between(21, 24)) | (pd.to_datetime(x['booking_created_tm']).dt.hour==0)),\n",
    "        (pd.to_datetime(x['booking_created_tm']).dt.hour.between(1, 4))]\n",
    "values = ['Early Morning','Morning','Afternoon','Evening','Night','Late Night']\n",
    "x['booking_created_session'] = np.select(cond,values)"
   ]
  },
  {
   "cell_type": "code",
   "execution_count": 51,
   "id": "bf7d932a",
   "metadata": {},
   "outputs": [
    {
     "data": {
      "text/plain": [
       "0"
      ]
     },
     "execution_count": 51,
     "metadata": {},
     "output_type": "execute_result"
    }
   ],
   "source": [
    "x['from_date'].isnull().sum()"
   ]
  },
  {
   "cell_type": "code",
   "execution_count": 52,
   "id": "9883ad81",
   "metadata": {},
   "outputs": [
    {
     "data": {
      "text/plain": [
       "0"
      ]
     },
     "execution_count": 52,
     "metadata": {},
     "output_type": "execute_result"
    }
   ],
   "source": [
    "x['booking_created'].isnull().sum()"
   ]
  },
  {
   "cell_type": "code",
   "execution_count": 53,
   "id": "164fe70c",
   "metadata": {},
   "outputs": [
    {
     "name": "stdout",
     "output_type": "stream",
     "text": [
      "0          21.0\n",
      "1         395.0\n",
      "2          22.0\n",
      "3          66.0\n",
      "4          67.0\n",
      "          ...  \n",
      "43426     215.0\n",
      "43427    2070.0\n",
      "43428     235.0\n",
      "43429      77.0\n",
      "43430     850.0\n",
      "Name: time_diff, Length: 43431, dtype: float64\n"
     ]
    }
   ],
   "source": [
    "import pandas as pd\n",
    "from dateutil import parser\n",
    "\n",
    "# Custom function to parse dates with multiple formats\n",
    "def parse_date(date_str):\n",
    "    if pd.isna(date_str):  # Handle NaN values\n",
    "        return pd.NaT\n",
    "    try:\n",
    "        return parser.parse(date_str, fuzzy=True)\n",
    "    except (ValueError, TypeError):\n",
    "        return pd.NaT  # Return NaT if parsing fails\n",
    "\n",
    "# Example DataFrame\n",
    "\n",
    "\n",
    "# Apply the custom function to both columns\n",
    "x['from_date'] = x['from_date'].apply(parse_date)\n",
    "x['booking_created'] = x['booking_created'].apply(parse_date)\n",
    "\n",
    "# Calculate the time difference in minutes\n",
    "x['time_diff'] = (x['from_date'] - x['booking_created']).dt.total_seconds() / 60\n",
    "\n",
    "# Print the DataFrame\n",
    "print(x['time_diff'])\n"
   ]
  },
  {
   "cell_type": "code",
   "execution_count": 54,
   "id": "690720ba",
   "metadata": {},
   "outputs": [
    {
     "data": {
      "text/html": [
       "<div>\n",
       "<style scoped>\n",
       "    .dataframe tbody tr th:only-of-type {\n",
       "        vertical-align: middle;\n",
       "    }\n",
       "\n",
       "    .dataframe tbody tr th {\n",
       "        vertical-align: top;\n",
       "    }\n",
       "\n",
       "    .dataframe thead th {\n",
       "        text-align: right;\n",
       "    }\n",
       "</style>\n",
       "<table border=\"1\" class=\"dataframe\">\n",
       "  <thead>\n",
       "    <tr style=\"text-align: right;\">\n",
       "      <th></th>\n",
       "      <th>from_area_id</th>\n",
       "      <th>from_date</th>\n",
       "      <th>online_booking</th>\n",
       "      <th>mobile_site_booking</th>\n",
       "      <th>booking_created</th>\n",
       "      <th>traveltype_pointtopoint</th>\n",
       "      <th>traveltype_hourly</th>\n",
       "      <th>distance</th>\n",
       "      <th>from_date_dt</th>\n",
       "      <th>from_time_tm</th>\n",
       "      <th>...</th>\n",
       "      <th>booking_created_tm</th>\n",
       "      <th>from_date_day</th>\n",
       "      <th>booking_created_day</th>\n",
       "      <th>from_date_month</th>\n",
       "      <th>booking_created_month</th>\n",
       "      <th>from_date_week</th>\n",
       "      <th>booking_created_week</th>\n",
       "      <th>from_date_session</th>\n",
       "      <th>booking_created_session</th>\n",
       "      <th>time_diff</th>\n",
       "    </tr>\n",
       "  </thead>\n",
       "  <tbody>\n",
       "    <tr>\n",
       "      <th>1763</th>\n",
       "      <td>1298.0</td>\n",
       "      <td>2013-01-20 14:15:00</td>\n",
       "      <td>0</td>\n",
       "      <td>0</td>\n",
       "      <td>2013-01-20 15:01:00</td>\n",
       "      <td>False</td>\n",
       "      <td>True</td>\n",
       "      <td>8.482630</td>\n",
       "      <td>01/20/2013</td>\n",
       "      <td>14:15</td>\n",
       "      <td>...</td>\n",
       "      <td>15:01</td>\n",
       "      <td>Sunday</td>\n",
       "      <td>Sunday</td>\n",
       "      <td>January</td>\n",
       "      <td>January</td>\n",
       "      <td>Weekend</td>\n",
       "      <td>Weekend</td>\n",
       "      <td>Afternoon</td>\n",
       "      <td>Afternoon</td>\n",
       "      <td>-46.0</td>\n",
       "    </tr>\n",
       "    <tr>\n",
       "      <th>2990</th>\n",
       "      <td>393.0</td>\n",
       "      <td>2013-02-01 09:45:00</td>\n",
       "      <td>0</td>\n",
       "      <td>0</td>\n",
       "      <td>2013-02-01 13:18:00</td>\n",
       "      <td>False</td>\n",
       "      <td>True</td>\n",
       "      <td>28.576256</td>\n",
       "      <td>02/01/2013</td>\n",
       "      <td>09:45</td>\n",
       "      <td>...</td>\n",
       "      <td>13:18</td>\n",
       "      <td>Friday</td>\n",
       "      <td>Friday</td>\n",
       "      <td>February</td>\n",
       "      <td>February</td>\n",
       "      <td>Weekday</td>\n",
       "      <td>Weekday</td>\n",
       "      <td>Morning</td>\n",
       "      <td>Afternoon</td>\n",
       "      <td>-213.0</td>\n",
       "    </tr>\n",
       "    <tr>\n",
       "      <th>4228</th>\n",
       "      <td>571.0</td>\n",
       "      <td>2013-02-13 18:00:00</td>\n",
       "      <td>0</td>\n",
       "      <td>0</td>\n",
       "      <td>2013-02-13 18:29:00</td>\n",
       "      <td>False</td>\n",
       "      <td>True</td>\n",
       "      <td>5.866543</td>\n",
       "      <td>02/13/2013</td>\n",
       "      <td>18:00</td>\n",
       "      <td>...</td>\n",
       "      <td>18:29</td>\n",
       "      <td>Wednesday</td>\n",
       "      <td>Wednesday</td>\n",
       "      <td>February</td>\n",
       "      <td>February</td>\n",
       "      <td>Weekday</td>\n",
       "      <td>Weekday</td>\n",
       "      <td>Evening</td>\n",
       "      <td>Evening</td>\n",
       "      <td>-29.0</td>\n",
       "    </tr>\n",
       "    <tr>\n",
       "      <th>5303</th>\n",
       "      <td>1068.0</td>\n",
       "      <td>2013-02-23 18:00:00</td>\n",
       "      <td>0</td>\n",
       "      <td>0</td>\n",
       "      <td>2013-02-23 18:03:00</td>\n",
       "      <td>False</td>\n",
       "      <td>True</td>\n",
       "      <td>3.547502</td>\n",
       "      <td>02/23/2013</td>\n",
       "      <td>18:00</td>\n",
       "      <td>...</td>\n",
       "      <td>18:03</td>\n",
       "      <td>Saturday</td>\n",
       "      <td>Saturday</td>\n",
       "      <td>February</td>\n",
       "      <td>February</td>\n",
       "      <td>Weekend</td>\n",
       "      <td>Weekend</td>\n",
       "      <td>Evening</td>\n",
       "      <td>Evening</td>\n",
       "      <td>-3.0</td>\n",
       "    </tr>\n",
       "    <tr>\n",
       "      <th>6106</th>\n",
       "      <td>1010.0</td>\n",
       "      <td>2013-03-04 00:30:00</td>\n",
       "      <td>0</td>\n",
       "      <td>0</td>\n",
       "      <td>2013-03-04 02:00:00</td>\n",
       "      <td>False</td>\n",
       "      <td>True</td>\n",
       "      <td>10.133543</td>\n",
       "      <td>03/04/2013</td>\n",
       "      <td>00:30</td>\n",
       "      <td>...</td>\n",
       "      <td>02:00</td>\n",
       "      <td>Monday</td>\n",
       "      <td>Monday</td>\n",
       "      <td>March</td>\n",
       "      <td>March</td>\n",
       "      <td>Weekday</td>\n",
       "      <td>Weekday</td>\n",
       "      <td>Night</td>\n",
       "      <td>Late Night</td>\n",
       "      <td>-90.0</td>\n",
       "    </tr>\n",
       "  </tbody>\n",
       "</table>\n",
       "<p>5 rows × 21 columns</p>\n",
       "</div>"
      ],
      "text/plain": [
       "      from_area_id           from_date  online_booking  mobile_site_booking  \\\n",
       "1763        1298.0 2013-01-20 14:15:00               0                    0   \n",
       "2990         393.0 2013-02-01 09:45:00               0                    0   \n",
       "4228         571.0 2013-02-13 18:00:00               0                    0   \n",
       "5303        1068.0 2013-02-23 18:00:00               0                    0   \n",
       "6106        1010.0 2013-03-04 00:30:00               0                    0   \n",
       "\n",
       "         booking_created  traveltype_pointtopoint  traveltype_hourly  \\\n",
       "1763 2013-01-20 15:01:00                    False               True   \n",
       "2990 2013-02-01 13:18:00                    False               True   \n",
       "4228 2013-02-13 18:29:00                    False               True   \n",
       "5303 2013-02-23 18:03:00                    False               True   \n",
       "6106 2013-03-04 02:00:00                    False               True   \n",
       "\n",
       "       distance from_date_dt from_time_tm  ... booking_created_tm  \\\n",
       "1763   8.482630   01/20/2013        14:15  ...              15:01   \n",
       "2990  28.576256   02/01/2013        09:45  ...              13:18   \n",
       "4228   5.866543   02/13/2013        18:00  ...              18:29   \n",
       "5303   3.547502   02/23/2013        18:00  ...              18:03   \n",
       "6106  10.133543   03/04/2013        00:30  ...              02:00   \n",
       "\n",
       "     from_date_day booking_created_day from_date_month booking_created_month  \\\n",
       "1763        Sunday              Sunday         January               January   \n",
       "2990        Friday              Friday        February              February   \n",
       "4228     Wednesday           Wednesday        February              February   \n",
       "5303      Saturday            Saturday        February              February   \n",
       "6106        Monday              Monday           March                 March   \n",
       "\n",
       "     from_date_week booking_created_week from_date_session  \\\n",
       "1763        Weekend              Weekend         Afternoon   \n",
       "2990        Weekday              Weekday           Morning   \n",
       "4228        Weekday              Weekday           Evening   \n",
       "5303        Weekend              Weekend           Evening   \n",
       "6106        Weekday              Weekday             Night   \n",
       "\n",
       "     booking_created_session time_diff  \n",
       "1763               Afternoon     -46.0  \n",
       "2990               Afternoon    -213.0  \n",
       "4228                 Evening     -29.0  \n",
       "5303                 Evening      -3.0  \n",
       "6106              Late Night     -90.0  \n",
       "\n",
       "[5 rows x 21 columns]"
      ]
     },
     "execution_count": 54,
     "metadata": {},
     "output_type": "execute_result"
    }
   ],
   "source": [
    "x[x['time_diff'] < 0].head()"
   ]
  },
  {
   "cell_type": "code",
   "execution_count": 55,
   "id": "b182c216",
   "metadata": {},
   "outputs": [
    {
     "data": {
      "text/plain": [
       "42"
      ]
     },
     "execution_count": 55,
     "metadata": {},
     "output_type": "execute_result"
    }
   ],
   "source": [
    "x[x['time_diff'] < 0]['time_diff'].count()"
   ]
  },
  {
   "cell_type": "code",
   "execution_count": 56,
   "id": "fdebeb81",
   "metadata": {},
   "outputs": [
    {
     "data": {
      "text/plain": [
       "0        False\n",
       "1        False\n",
       "2        False\n",
       "3        False\n",
       "4        False\n",
       "         ...  \n",
       "43426    False\n",
       "43427    False\n",
       "43428    False\n",
       "43429    False\n",
       "43430    False\n",
       "Name: time_diff, Length: 43431, dtype: bool"
      ]
     },
     "execution_count": 56,
     "metadata": {},
     "output_type": "execute_result"
    }
   ],
   "source": [
    "x['time_diff'].isnull()"
   ]
  },
  {
   "cell_type": "code",
   "execution_count": 57,
   "id": "2209c65d",
   "metadata": {},
   "outputs": [
    {
     "data": {
      "text/plain": [
       "0          21.0\n",
       "1         395.0\n",
       "2          22.0\n",
       "3          66.0\n",
       "4          67.0\n",
       "          ...  \n",
       "43426     215.0\n",
       "43427    2070.0\n",
       "43428     235.0\n",
       "43429      77.0\n",
       "43430     850.0\n",
       "Name: time_diff, Length: 43431, dtype: float64"
      ]
     },
     "execution_count": 57,
     "metadata": {},
     "output_type": "execute_result"
    }
   ],
   "source": [
    "x['time_diff']"
   ]
  },
  {
   "cell_type": "code",
   "execution_count": 58,
   "id": "dbb81208",
   "metadata": {},
   "outputs": [],
   "source": [
    "x = x.drop(['from_date','booking_created'],axis=1)"
   ]
  },
  {
   "cell_type": "code",
   "execution_count": 59,
   "id": "39833b09",
   "metadata": {},
   "outputs": [],
   "source": [
    "x = x.drop(['from_date_dt','from_time_tm','booking_created_dt','booking_created_tm'],axis=1)"
   ]
  },
  {
   "cell_type": "code",
   "execution_count": 60,
   "id": "fce20936",
   "metadata": {},
   "outputs": [],
   "source": [
    "x_merged = pd.concat([x,y],axis=1,join='inner')\n",
    "x['from_area_id'] = round(x_merged.groupby('from_area_id')['Car_Cancellation'].sum()/x_merged.groupby('from_area_id')['Car_Cancellation'].count(),2)\n",
    "x['from_area_id'].replace(np.nan,0,inplace=True)"
   ]
  },
  {
   "cell_type": "code",
   "execution_count": 61,
   "id": "649beee0",
   "metadata": {},
   "outputs": [],
   "source": [
    "cond = [(x['from_area_id'].astype('float').between(0,0.33)),\n",
    "        (x['from_area_id'].astype('float').between(0.34,0.66)),\n",
    "        (x['from_area_id'].astype('float').between(0.67,1.0))]\n",
    "values = ['Low Cancellation','Medium Cancellation','High Cancellation']\n",
    "x['from_area_id'] = np.select(cond,values)"
   ]
  },
  {
   "cell_type": "code",
   "execution_count": 62,
   "id": "db537ee3",
   "metadata": {},
   "outputs": [
    {
     "data": {
      "text/plain": [
       "array(['Low Cancellation', 'High Cancellation', 'Medium Cancellation'],\n",
       "      dtype=object)"
      ]
     },
     "execution_count": 62,
     "metadata": {},
     "output_type": "execute_result"
    }
   ],
   "source": [
    "x['from_area_id'].unique()"
   ]
  },
  {
   "cell_type": "code",
   "execution_count": 63,
   "id": "8afac28a",
   "metadata": {},
   "outputs": [
    {
     "data": {
      "text/plain": [
       "0          21.0\n",
       "1         395.0\n",
       "2          22.0\n",
       "3          66.0\n",
       "4          67.0\n",
       "          ...  \n",
       "43426     215.0\n",
       "43427    2070.0\n",
       "43428     235.0\n",
       "43429      77.0\n",
       "43430     850.0\n",
       "Name: time_diff, Length: 43431, dtype: float64"
      ]
     },
     "execution_count": 63,
     "metadata": {},
     "output_type": "execute_result"
    }
   ],
   "source": [
    "x['time_diff']"
   ]
  },
  {
   "cell_type": "code",
   "execution_count": 64,
   "id": "a47e77ef",
   "metadata": {},
   "outputs": [
    {
     "data": {
      "text/plain": [
       "from_date_day\n",
       "Saturday     6990\n",
       "Friday       6911\n",
       "Sunday       6194\n",
       "Thursday     6054\n",
       "Monday       5964\n",
       "Wednesday    5847\n",
       "Tuesday      5471\n",
       "Name: count, dtype: int64"
      ]
     },
     "execution_count": 64,
     "metadata": {},
     "output_type": "execute_result"
    }
   ],
   "source": [
    "x['from_date_day'].value_counts()"
   ]
  },
  {
   "cell_type": "code",
   "execution_count": 65,
   "id": "3ce268d4",
   "metadata": {},
   "outputs": [
    {
     "data": {
      "text/html": [
       "<div>\n",
       "<style scoped>\n",
       "    .dataframe tbody tr th:only-of-type {\n",
       "        vertical-align: middle;\n",
       "    }\n",
       "\n",
       "    .dataframe tbody tr th {\n",
       "        vertical-align: top;\n",
       "    }\n",
       "\n",
       "    .dataframe thead th {\n",
       "        text-align: right;\n",
       "    }\n",
       "</style>\n",
       "<table border=\"1\" class=\"dataframe\">\n",
       "  <thead>\n",
       "    <tr style=\"text-align: right;\">\n",
       "      <th></th>\n",
       "      <th>from_area_id</th>\n",
       "      <th>online_booking</th>\n",
       "      <th>mobile_site_booking</th>\n",
       "      <th>traveltype_pointtopoint</th>\n",
       "      <th>traveltype_hourly</th>\n",
       "      <th>distance</th>\n",
       "      <th>from_date_day</th>\n",
       "      <th>booking_created_day</th>\n",
       "      <th>from_date_month</th>\n",
       "      <th>booking_created_month</th>\n",
       "      <th>from_date_week</th>\n",
       "      <th>booking_created_week</th>\n",
       "      <th>from_date_session</th>\n",
       "      <th>booking_created_session</th>\n",
       "      <th>time_diff</th>\n",
       "    </tr>\n",
       "  </thead>\n",
       "  <tbody>\n",
       "    <tr>\n",
       "      <th>0</th>\n",
       "      <td>Low Cancellation</td>\n",
       "      <td>0</td>\n",
       "      <td>0</td>\n",
       "      <td>True</td>\n",
       "      <td>False</td>\n",
       "      <td>3.980687</td>\n",
       "      <td>Tuesday</td>\n",
       "      <td>Tuesday</td>\n",
       "      <td>January</td>\n",
       "      <td>January</td>\n",
       "      <td>Weekday</td>\n",
       "      <td>Weekday</td>\n",
       "      <td>Late Night</td>\n",
       "      <td>Late Night</td>\n",
       "      <td>21.0</td>\n",
       "    </tr>\n",
       "    <tr>\n",
       "      <th>1</th>\n",
       "      <td>Low Cancellation</td>\n",
       "      <td>0</td>\n",
       "      <td>0</td>\n",
       "      <td>True</td>\n",
       "      <td>False</td>\n",
       "      <td>14.004432</td>\n",
       "      <td>Tuesday</td>\n",
       "      <td>Tuesday</td>\n",
       "      <td>January</td>\n",
       "      <td>January</td>\n",
       "      <td>Weekday</td>\n",
       "      <td>Weekday</td>\n",
       "      <td>Morning</td>\n",
       "      <td>Late Night</td>\n",
       "      <td>395.0</td>\n",
       "    </tr>\n",
       "    <tr>\n",
       "      <th>2</th>\n",
       "      <td>Low Cancellation</td>\n",
       "      <td>0</td>\n",
       "      <td>0</td>\n",
       "      <td>True</td>\n",
       "      <td>False</td>\n",
       "      <td>12.648909</td>\n",
       "      <td>Tuesday</td>\n",
       "      <td>Tuesday</td>\n",
       "      <td>January</td>\n",
       "      <td>January</td>\n",
       "      <td>Weekday</td>\n",
       "      <td>Weekday</td>\n",
       "      <td>Late Night</td>\n",
       "      <td>Late Night</td>\n",
       "      <td>22.0</td>\n",
       "    </tr>\n",
       "    <tr>\n",
       "      <th>3</th>\n",
       "      <td>Low Cancellation</td>\n",
       "      <td>0</td>\n",
       "      <td>0</td>\n",
       "      <td>True</td>\n",
       "      <td>False</td>\n",
       "      <td>9.534596</td>\n",
       "      <td>Tuesday</td>\n",
       "      <td>Tuesday</td>\n",
       "      <td>January</td>\n",
       "      <td>January</td>\n",
       "      <td>Weekday</td>\n",
       "      <td>Weekday</td>\n",
       "      <td>Early Morning</td>\n",
       "      <td>Late Night</td>\n",
       "      <td>66.0</td>\n",
       "    </tr>\n",
       "    <tr>\n",
       "      <th>4</th>\n",
       "      <td>Low Cancellation</td>\n",
       "      <td>0</td>\n",
       "      <td>0</td>\n",
       "      <td>True</td>\n",
       "      <td>False</td>\n",
       "      <td>14.655467</td>\n",
       "      <td>Tuesday</td>\n",
       "      <td>Tuesday</td>\n",
       "      <td>January</td>\n",
       "      <td>January</td>\n",
       "      <td>Weekday</td>\n",
       "      <td>Weekday</td>\n",
       "      <td>Morning</td>\n",
       "      <td>Early Morning</td>\n",
       "      <td>67.0</td>\n",
       "    </tr>\n",
       "    <tr>\n",
       "      <th>...</th>\n",
       "      <td>...</td>\n",
       "      <td>...</td>\n",
       "      <td>...</td>\n",
       "      <td>...</td>\n",
       "      <td>...</td>\n",
       "      <td>...</td>\n",
       "      <td>...</td>\n",
       "      <td>...</td>\n",
       "      <td>...</td>\n",
       "      <td>...</td>\n",
       "      <td>...</td>\n",
       "      <td>...</td>\n",
       "      <td>...</td>\n",
       "      <td>...</td>\n",
       "      <td>...</td>\n",
       "    </tr>\n",
       "    <tr>\n",
       "      <th>43426</th>\n",
       "      <td>Low Cancellation</td>\n",
       "      <td>1</td>\n",
       "      <td>0</td>\n",
       "      <td>True</td>\n",
       "      <td>False</td>\n",
       "      <td>10.681284</td>\n",
       "      <td>Sunday</td>\n",
       "      <td>Sunday</td>\n",
       "      <td>November</td>\n",
       "      <td>November</td>\n",
       "      <td>Weekend</td>\n",
       "      <td>Weekend</td>\n",
       "      <td>Evening</td>\n",
       "      <td>Afternoon</td>\n",
       "      <td>215.0</td>\n",
       "    </tr>\n",
       "    <tr>\n",
       "      <th>43427</th>\n",
       "      <td>Low Cancellation</td>\n",
       "      <td>1</td>\n",
       "      <td>0</td>\n",
       "      <td>True</td>\n",
       "      <td>False</td>\n",
       "      <td>21.251031</td>\n",
       "      <td>Tuesday</td>\n",
       "      <td>Sunday</td>\n",
       "      <td>November</td>\n",
       "      <td>November</td>\n",
       "      <td>Weekday</td>\n",
       "      <td>Weekend</td>\n",
       "      <td>Late Night</td>\n",
       "      <td>Afternoon</td>\n",
       "      <td>2070.0</td>\n",
       "    </tr>\n",
       "    <tr>\n",
       "      <th>43428</th>\n",
       "      <td>Low Cancellation</td>\n",
       "      <td>0</td>\n",
       "      <td>0</td>\n",
       "      <td>False</td>\n",
       "      <td>True</td>\n",
       "      <td>7.450810</td>\n",
       "      <td>Sunday</td>\n",
       "      <td>Sunday</td>\n",
       "      <td>November</td>\n",
       "      <td>November</td>\n",
       "      <td>Weekend</td>\n",
       "      <td>Weekend</td>\n",
       "      <td>Evening</td>\n",
       "      <td>Afternoon</td>\n",
       "      <td>235.0</td>\n",
       "    </tr>\n",
       "    <tr>\n",
       "      <th>43429</th>\n",
       "      <td>Low Cancellation</td>\n",
       "      <td>0</td>\n",
       "      <td>0</td>\n",
       "      <td>True</td>\n",
       "      <td>False</td>\n",
       "      <td>4.584142</td>\n",
       "      <td>Sunday</td>\n",
       "      <td>Sunday</td>\n",
       "      <td>November</td>\n",
       "      <td>November</td>\n",
       "      <td>Weekend</td>\n",
       "      <td>Weekend</td>\n",
       "      <td>Afternoon</td>\n",
       "      <td>Afternoon</td>\n",
       "      <td>77.0</td>\n",
       "    </tr>\n",
       "    <tr>\n",
       "      <th>43430</th>\n",
       "      <td>Low Cancellation</td>\n",
       "      <td>0</td>\n",
       "      <td>1</td>\n",
       "      <td>True</td>\n",
       "      <td>False</td>\n",
       "      <td>25.432381</td>\n",
       "      <td>Monday</td>\n",
       "      <td>Sunday</td>\n",
       "      <td>November</td>\n",
       "      <td>November</td>\n",
       "      <td>Weekday</td>\n",
       "      <td>Weekend</td>\n",
       "      <td>Early Morning</td>\n",
       "      <td>Afternoon</td>\n",
       "      <td>850.0</td>\n",
       "    </tr>\n",
       "  </tbody>\n",
       "</table>\n",
       "<p>43431 rows × 15 columns</p>\n",
       "</div>"
      ],
      "text/plain": [
       "           from_area_id  online_booking  mobile_site_booking  \\\n",
       "0      Low Cancellation               0                    0   \n",
       "1      Low Cancellation               0                    0   \n",
       "2      Low Cancellation               0                    0   \n",
       "3      Low Cancellation               0                    0   \n",
       "4      Low Cancellation               0                    0   \n",
       "...                 ...             ...                  ...   \n",
       "43426  Low Cancellation               1                    0   \n",
       "43427  Low Cancellation               1                    0   \n",
       "43428  Low Cancellation               0                    0   \n",
       "43429  Low Cancellation               0                    0   \n",
       "43430  Low Cancellation               0                    1   \n",
       "\n",
       "       traveltype_pointtopoint  traveltype_hourly   distance from_date_day  \\\n",
       "0                         True              False   3.980687       Tuesday   \n",
       "1                         True              False  14.004432       Tuesday   \n",
       "2                         True              False  12.648909       Tuesday   \n",
       "3                         True              False   9.534596       Tuesday   \n",
       "4                         True              False  14.655467       Tuesday   \n",
       "...                        ...                ...        ...           ...   \n",
       "43426                     True              False  10.681284        Sunday   \n",
       "43427                     True              False  21.251031       Tuesday   \n",
       "43428                    False               True   7.450810        Sunday   \n",
       "43429                     True              False   4.584142        Sunday   \n",
       "43430                     True              False  25.432381        Monday   \n",
       "\n",
       "      booking_created_day from_date_month booking_created_month  \\\n",
       "0                 Tuesday         January               January   \n",
       "1                 Tuesday         January               January   \n",
       "2                 Tuesday         January               January   \n",
       "3                 Tuesday         January               January   \n",
       "4                 Tuesday         January               January   \n",
       "...                   ...             ...                   ...   \n",
       "43426              Sunday        November              November   \n",
       "43427              Sunday        November              November   \n",
       "43428              Sunday        November              November   \n",
       "43429              Sunday        November              November   \n",
       "43430              Sunday        November              November   \n",
       "\n",
       "      from_date_week booking_created_week from_date_session  \\\n",
       "0            Weekday              Weekday        Late Night   \n",
       "1            Weekday              Weekday           Morning   \n",
       "2            Weekday              Weekday        Late Night   \n",
       "3            Weekday              Weekday     Early Morning   \n",
       "4            Weekday              Weekday           Morning   \n",
       "...              ...                  ...               ...   \n",
       "43426        Weekend              Weekend           Evening   \n",
       "43427        Weekday              Weekend        Late Night   \n",
       "43428        Weekend              Weekend           Evening   \n",
       "43429        Weekend              Weekend         Afternoon   \n",
       "43430        Weekday              Weekend     Early Morning   \n",
       "\n",
       "      booking_created_session  time_diff  \n",
       "0                  Late Night       21.0  \n",
       "1                  Late Night      395.0  \n",
       "2                  Late Night       22.0  \n",
       "3                  Late Night       66.0  \n",
       "4               Early Morning       67.0  \n",
       "...                       ...        ...  \n",
       "43426               Afternoon      215.0  \n",
       "43427               Afternoon     2070.0  \n",
       "43428               Afternoon      235.0  \n",
       "43429               Afternoon       77.0  \n",
       "43430               Afternoon      850.0  \n",
       "\n",
       "[43431 rows x 15 columns]"
      ]
     },
     "execution_count": 65,
     "metadata": {},
     "output_type": "execute_result"
    }
   ],
   "source": [
    "x\n"
   ]
  },
  {
   "cell_type": "code",
   "execution_count": 66,
   "id": "8299ac7c",
   "metadata": {},
   "outputs": [
    {
     "data": {
      "text/plain": [
       "from_area_id\n",
       "Low Cancellation       43415\n",
       "Medium Cancellation       11\n",
       "High Cancellation          5\n",
       "Name: count, dtype: int64"
      ]
     },
     "execution_count": 66,
     "metadata": {},
     "output_type": "execute_result"
    }
   ],
   "source": [
    "x['from_area_id'].value_counts()"
   ]
  },
  {
   "cell_type": "markdown",
   "id": "23425125",
   "metadata": {},
   "source": [
    "# Data Visulaisation"
   ]
  },
  {
   "cell_type": "code",
   "execution_count": 67,
   "id": "91746f24",
   "metadata": {},
   "outputs": [
    {
     "data": {
      "image/png": "[encoded data removed]",
      "text/plain": [
       "<Figure size 640x480 with 1 Axes>"
      ]
     },
     "metadata": {},
     "output_type": "display_data"
    },
    {
     "data": {
      "image/png": "[encoded data removed]",
      "text/plain": [
       "<Figure size 640x480 with 1 Axes>"
      ]
     },
     "metadata": {},
     "output_type": "display_data"
    },
    {
     "data": {
      "image/png": "[encoded data removed]",
      "text/plain": [
       "<Figure size 640x480 with 1 Axes>"
      ]
     },
     "metadata": {},
     "output_type": "display_data"
    },
    {
     "data": {
      "image/png": "[encoded data removed]",
      "text/plain": [
       "<Figure size 640x480 with 1 Axes>"
      ]
     },
     "metadata": {},
     "output_type": "display_data"
    },
    {
     "data": {
      "image/png": "[encoded data removed]",
      "text/plain": [
       "<Figure size 640x480 with 1 Axes>"
      ]
     },
     "metadata": {},
     "output_type": "display_data"
    },
    {
     "data": {
      "image/png": "[encoded data removed]",
      "text/plain": [
       "<Figure size 640x480 with 1 Axes>"
      ]
     },
     "metadata": {},
     "output_type": "display_data"
    },
    {
     "data": {
      "image/png": "[encoded data removed]",
      "text/plain": [
       "<Figure size 640x480 with 1 Axes>"
      ]
     },
     "metadata": {},
     "output_type": "display_data"
    },
    {
     "data": {
      "image/png": "[encoded data removed]",
      "text/plain": [
       "<Figure size 640x480 with 1 Axes>"
      ]
     },
     "metadata": {},
     "output_type": "display_data"
    },
    {
     "data": {
      "image/png": "[encoded data removed]",
      "text/plain": [
       "<Figure size 640x480 with 1 Axes>"
      ]
     },
     "metadata": {},
     "output_type": "display_data"
    }
   ],
   "source": [
    "for col in x.columns:\n",
    "  if x[col].dtype == 'object':\n",
    "    x[col].value_counts().plot.bar()\n",
    "    plt.title(col)\n",
    "    plt.show()"
   ]
  },
  {
   "cell_type": "markdown",
   "id": "7f5674ef",
   "metadata": {},
   "source": [
    "# Dividing data into Numerical and Categorical dataframes¶\n"
   ]
  },
  {
   "cell_type": "code",
   "execution_count": 68,
   "id": "b43c8296",
   "metadata": {},
   "outputs": [],
   "source": [
    "num = x.select_dtypes(include='number')\n",
    "char = x.select_dtypes(include='object')"
   ]
  },
  {
   "cell_type": "code",
   "execution_count": 69,
   "id": "08cc8db6",
   "metadata": {},
   "outputs": [
    {
     "data": {
      "text/html": [
       "<div>\n",
       "<style scoped>\n",
       "    .dataframe tbody tr th:only-of-type {\n",
       "        vertical-align: middle;\n",
       "    }\n",
       "\n",
       "    .dataframe tbody tr th {\n",
       "        vertical-align: top;\n",
       "    }\n",
       "\n",
       "    .dataframe thead th {\n",
       "        text-align: right;\n",
       "    }\n",
       "</style>\n",
       "<table border=\"1\" class=\"dataframe\">\n",
       "  <thead>\n",
       "    <tr style=\"text-align: right;\">\n",
       "      <th></th>\n",
       "      <th>online_booking</th>\n",
       "      <th>mobile_site_booking</th>\n",
       "      <th>distance</th>\n",
       "      <th>time_diff</th>\n",
       "    </tr>\n",
       "  </thead>\n",
       "  <tbody>\n",
       "    <tr>\n",
       "      <th>0</th>\n",
       "      <td>0</td>\n",
       "      <td>0</td>\n",
       "      <td>3.980687</td>\n",
       "      <td>21.0</td>\n",
       "    </tr>\n",
       "    <tr>\n",
       "      <th>1</th>\n",
       "      <td>0</td>\n",
       "      <td>0</td>\n",
       "      <td>14.004432</td>\n",
       "      <td>395.0</td>\n",
       "    </tr>\n",
       "    <tr>\n",
       "      <th>2</th>\n",
       "      <td>0</td>\n",
       "      <td>0</td>\n",
       "      <td>12.648909</td>\n",
       "      <td>22.0</td>\n",
       "    </tr>\n",
       "    <tr>\n",
       "      <th>3</th>\n",
       "      <td>0</td>\n",
       "      <td>0</td>\n",
       "      <td>9.534596</td>\n",
       "      <td>66.0</td>\n",
       "    </tr>\n",
       "    <tr>\n",
       "      <th>4</th>\n",
       "      <td>0</td>\n",
       "      <td>0</td>\n",
       "      <td>14.655467</td>\n",
       "      <td>67.0</td>\n",
       "    </tr>\n",
       "  </tbody>\n",
       "</table>\n",
       "</div>"
      ],
      "text/plain": [
       "   online_booking  mobile_site_booking   distance  time_diff\n",
       "0               0                    0   3.980687       21.0\n",
       "1               0                    0  14.004432      395.0\n",
       "2               0                    0  12.648909       22.0\n",
       "3               0                    0   9.534596       66.0\n",
       "4               0                    0  14.655467       67.0"
      ]
     },
     "execution_count": 69,
     "metadata": {},
     "output_type": "execute_result"
    }
   ],
   "source": [
    "num.head()"
   ]
  },
  {
   "cell_type": "code",
   "execution_count": 70,
   "id": "8def893a",
   "metadata": {},
   "outputs": [
    {
     "data": {
      "text/html": [
       "<div>\n",
       "<style scoped>\n",
       "    .dataframe tbody tr th:only-of-type {\n",
       "        vertical-align: middle;\n",
       "    }\n",
       "\n",
       "    .dataframe tbody tr th {\n",
       "        vertical-align: top;\n",
       "    }\n",
       "\n",
       "    .dataframe thead th {\n",
       "        text-align: right;\n",
       "    }\n",
       "</style>\n",
       "<table border=\"1\" class=\"dataframe\">\n",
       "  <thead>\n",
       "    <tr style=\"text-align: right;\">\n",
       "      <th></th>\n",
       "      <th>from_area_id</th>\n",
       "      <th>from_date_day</th>\n",
       "      <th>booking_created_day</th>\n",
       "      <th>from_date_month</th>\n",
       "      <th>booking_created_month</th>\n",
       "      <th>from_date_week</th>\n",
       "      <th>booking_created_week</th>\n",
       "      <th>from_date_session</th>\n",
       "      <th>booking_created_session</th>\n",
       "    </tr>\n",
       "  </thead>\n",
       "  <tbody>\n",
       "    <tr>\n",
       "      <th>0</th>\n",
       "      <td>Low Cancellation</td>\n",
       "      <td>Tuesday</td>\n",
       "      <td>Tuesday</td>\n",
       "      <td>January</td>\n",
       "      <td>January</td>\n",
       "      <td>Weekday</td>\n",
       "      <td>Weekday</td>\n",
       "      <td>Late Night</td>\n",
       "      <td>Late Night</td>\n",
       "    </tr>\n",
       "    <tr>\n",
       "      <th>1</th>\n",
       "      <td>Low Cancellation</td>\n",
       "      <td>Tuesday</td>\n",
       "      <td>Tuesday</td>\n",
       "      <td>January</td>\n",
       "      <td>January</td>\n",
       "      <td>Weekday</td>\n",
       "      <td>Weekday</td>\n",
       "      <td>Morning</td>\n",
       "      <td>Late Night</td>\n",
       "    </tr>\n",
       "    <tr>\n",
       "      <th>2</th>\n",
       "      <td>Low Cancellation</td>\n",
       "      <td>Tuesday</td>\n",
       "      <td>Tuesday</td>\n",
       "      <td>January</td>\n",
       "      <td>January</td>\n",
       "      <td>Weekday</td>\n",
       "      <td>Weekday</td>\n",
       "      <td>Late Night</td>\n",
       "      <td>Late Night</td>\n",
       "    </tr>\n",
       "    <tr>\n",
       "      <th>3</th>\n",
       "      <td>Low Cancellation</td>\n",
       "      <td>Tuesday</td>\n",
       "      <td>Tuesday</td>\n",
       "      <td>January</td>\n",
       "      <td>January</td>\n",
       "      <td>Weekday</td>\n",
       "      <td>Weekday</td>\n",
       "      <td>Early Morning</td>\n",
       "      <td>Late Night</td>\n",
       "    </tr>\n",
       "    <tr>\n",
       "      <th>4</th>\n",
       "      <td>Low Cancellation</td>\n",
       "      <td>Tuesday</td>\n",
       "      <td>Tuesday</td>\n",
       "      <td>January</td>\n",
       "      <td>January</td>\n",
       "      <td>Weekday</td>\n",
       "      <td>Weekday</td>\n",
       "      <td>Morning</td>\n",
       "      <td>Early Morning</td>\n",
       "    </tr>\n",
       "  </tbody>\n",
       "</table>\n",
       "</div>"
      ],
      "text/plain": [
       "       from_area_id from_date_day booking_created_day from_date_month  \\\n",
       "0  Low Cancellation       Tuesday             Tuesday         January   \n",
       "1  Low Cancellation       Tuesday             Tuesday         January   \n",
       "2  Low Cancellation       Tuesday             Tuesday         January   \n",
       "3  Low Cancellation       Tuesday             Tuesday         January   \n",
       "4  Low Cancellation       Tuesday             Tuesday         January   \n",
       "\n",
       "  booking_created_month from_date_week booking_created_week from_date_session  \\\n",
       "0               January        Weekday              Weekday        Late Night   \n",
       "1               January        Weekday              Weekday           Morning   \n",
       "2               January        Weekday              Weekday        Late Night   \n",
       "3               January        Weekday              Weekday     Early Morning   \n",
       "4               January        Weekday              Weekday           Morning   \n",
       "\n",
       "  booking_created_session  \n",
       "0              Late Night  \n",
       "1              Late Night  \n",
       "2              Late Night  \n",
       "3              Late Night  \n",
       "4           Early Morning  "
      ]
     },
     "execution_count": 70,
     "metadata": {},
     "output_type": "execute_result"
    }
   ],
   "source": [
    "char.head()"
   ]
  },
  {
   "cell_type": "code",
   "execution_count": 71,
   "id": "f556f54d",
   "metadata": {},
   "outputs": [
    {
     "data": {
      "image/png": "[encoded data removed]",
      "text/plain": [
       "<Figure size 640x480 with 1 Axes>"
      ]
     },
     "metadata": {},
     "output_type": "display_data"
    },
    {
     "data": {
      "image/png": "[encoded data removed]",
      "text/plain": [
       "<Figure size 640x480 with 1 Axes>"
      ]
     },
     "metadata": {},
     "output_type": "display_data"
    },
    {
     "data": {
      "image/png": "[encoded data removed]",
      "text/plain": [
       "<Figure size 640x480 with 1 Axes>"
      ]
     },
     "metadata": {},
     "output_type": "display_data"
    },
    {
     "data": {
      "image/png": "[encoded data removed]",
      "text/plain": [
       "<Figure size 640x480 with 1 Axes>"
      ]
     },
     "metadata": {},
     "output_type": "display_data"
    },
    {
     "data": {
      "image/png": "[encoded data removed]",
      "text/plain": [
       "<Figure size 640x480 with 1 Axes>"
      ]
     },
     "metadata": {},
     "output_type": "display_data"
    },
    {
     "data": {
      "image/png": "[encoded data removed]",
      "text/plain": [
       "<Figure size 640x480 with 1 Axes>"
      ]
     },
     "metadata": {},
     "output_type": "display_data"
    },
    {
     "data": {
      "image/png": "[encoded data removed]",
      "text/plain": [
       "<Figure size 640x480 with 1 Axes>"
      ]
     },
     "metadata": {},
     "output_type": "display_data"
    },
    {
     "data": {
      "image/png": "[encoded data removed]",
      "text/plain": [
       "<Figure size 640x480 with 1 Axes>"
      ]
     },
     "metadata": {},
     "output_type": "display_data"
    },
    {
     "data": {
      "image/png": "[encoded data removed]",
      "text/plain": [
       "<Figure size 640x480 with 1 Axes>"
      ]
     },
     "metadata": {},
     "output_type": "display_data"
    }
   ],
   "source": [
    "X_char_merged = pd.concat([char,y],axis=1,join='inner')\n",
    "\n",
    "from numpy import mean\n",
    "for col in (char.columns):\n",
    "    plt.figure()\n",
    "    sns.lineplot(x=col, y=X_char_merged['Car_Cancellation'].mean(), data=X_char_merged,estimator=mean, color='red')\n",
    "    sns.barplot(x=col, y='Car_Cancellation', data=X_char_merged,estimator=mean)\n",
    "plt.show()"
   ]
  },
  {
   "cell_type": "markdown",
   "id": "d21846c0",
   "metadata": {},
   "source": [
    "# Encoding Categorical variables¶\n"
   ]
  },
  {
   "cell_type": "code",
   "execution_count": 72,
   "id": "bbe37482",
   "metadata": {},
   "outputs": [
    {
     "data": {
      "text/plain": [
       "(43431, 47)"
      ]
     },
     "execution_count": 72,
     "metadata": {},
     "output_type": "execute_result"
    }
   ],
   "source": [
    "X_char_dum = pd.get_dummies(char, drop_first = True).astype('int')\n",
    "X_char_dum.shape"
   ]
  },
  {
   "cell_type": "code",
   "execution_count": 73,
   "id": "b4810ab1",
   "metadata": {},
   "outputs": [
    {
     "data": {
      "text/html": [
       "<div>\n",
       "<style scoped>\n",
       "    .dataframe tbody tr th:only-of-type {\n",
       "        vertical-align: middle;\n",
       "    }\n",
       "\n",
       "    .dataframe tbody tr th {\n",
       "        vertical-align: top;\n",
       "    }\n",
       "\n",
       "    .dataframe thead th {\n",
       "        text-align: right;\n",
       "    }\n",
       "</style>\n",
       "<table border=\"1\" class=\"dataframe\">\n",
       "  <thead>\n",
       "    <tr style=\"text-align: right;\">\n",
       "      <th></th>\n",
       "      <th>from_area_id_Low Cancellation</th>\n",
       "      <th>from_area_id_Medium Cancellation</th>\n",
       "      <th>from_date_day_Monday</th>\n",
       "      <th>from_date_day_Saturday</th>\n",
       "      <th>from_date_day_Sunday</th>\n",
       "      <th>from_date_day_Thursday</th>\n",
       "      <th>from_date_day_Tuesday</th>\n",
       "      <th>from_date_day_Wednesday</th>\n",
       "      <th>booking_created_day_Monday</th>\n",
       "      <th>booking_created_day_Saturday</th>\n",
       "      <th>...</th>\n",
       "      <th>from_date_session_Early Morning</th>\n",
       "      <th>from_date_session_Evening</th>\n",
       "      <th>from_date_session_Late Night</th>\n",
       "      <th>from_date_session_Morning</th>\n",
       "      <th>from_date_session_Night</th>\n",
       "      <th>booking_created_session_Early Morning</th>\n",
       "      <th>booking_created_session_Evening</th>\n",
       "      <th>booking_created_session_Late Night</th>\n",
       "      <th>booking_created_session_Morning</th>\n",
       "      <th>booking_created_session_Night</th>\n",
       "    </tr>\n",
       "  </thead>\n",
       "  <tbody>\n",
       "    <tr>\n",
       "      <th>0</th>\n",
       "      <td>1</td>\n",
       "      <td>0</td>\n",
       "      <td>0</td>\n",
       "      <td>0</td>\n",
       "      <td>0</td>\n",
       "      <td>0</td>\n",
       "      <td>1</td>\n",
       "      <td>0</td>\n",
       "      <td>0</td>\n",
       "      <td>0</td>\n",
       "      <td>...</td>\n",
       "      <td>0</td>\n",
       "      <td>0</td>\n",
       "      <td>1</td>\n",
       "      <td>0</td>\n",
       "      <td>0</td>\n",
       "      <td>0</td>\n",
       "      <td>0</td>\n",
       "      <td>1</td>\n",
       "      <td>0</td>\n",
       "      <td>0</td>\n",
       "    </tr>\n",
       "    <tr>\n",
       "      <th>1</th>\n",
       "      <td>1</td>\n",
       "      <td>0</td>\n",
       "      <td>0</td>\n",
       "      <td>0</td>\n",
       "      <td>0</td>\n",
       "      <td>0</td>\n",
       "      <td>1</td>\n",
       "      <td>0</td>\n",
       "      <td>0</td>\n",
       "      <td>0</td>\n",
       "      <td>...</td>\n",
       "      <td>0</td>\n",
       "      <td>0</td>\n",
       "      <td>0</td>\n",
       "      <td>1</td>\n",
       "      <td>0</td>\n",
       "      <td>0</td>\n",
       "      <td>0</td>\n",
       "      <td>1</td>\n",
       "      <td>0</td>\n",
       "      <td>0</td>\n",
       "    </tr>\n",
       "    <tr>\n",
       "      <th>2</th>\n",
       "      <td>1</td>\n",
       "      <td>0</td>\n",
       "      <td>0</td>\n",
       "      <td>0</td>\n",
       "      <td>0</td>\n",
       "      <td>0</td>\n",
       "      <td>1</td>\n",
       "      <td>0</td>\n",
       "      <td>0</td>\n",
       "      <td>0</td>\n",
       "      <td>...</td>\n",
       "      <td>0</td>\n",
       "      <td>0</td>\n",
       "      <td>1</td>\n",
       "      <td>0</td>\n",
       "      <td>0</td>\n",
       "      <td>0</td>\n",
       "      <td>0</td>\n",
       "      <td>1</td>\n",
       "      <td>0</td>\n",
       "      <td>0</td>\n",
       "    </tr>\n",
       "    <tr>\n",
       "      <th>3</th>\n",
       "      <td>1</td>\n",
       "      <td>0</td>\n",
       "      <td>0</td>\n",
       "      <td>0</td>\n",
       "      <td>0</td>\n",
       "      <td>0</td>\n",
       "      <td>1</td>\n",
       "      <td>0</td>\n",
       "      <td>0</td>\n",
       "      <td>0</td>\n",
       "      <td>...</td>\n",
       "      <td>1</td>\n",
       "      <td>0</td>\n",
       "      <td>0</td>\n",
       "      <td>0</td>\n",
       "      <td>0</td>\n",
       "      <td>0</td>\n",
       "      <td>0</td>\n",
       "      <td>1</td>\n",
       "      <td>0</td>\n",
       "      <td>0</td>\n",
       "    </tr>\n",
       "    <tr>\n",
       "      <th>4</th>\n",
       "      <td>1</td>\n",
       "      <td>0</td>\n",
       "      <td>0</td>\n",
       "      <td>0</td>\n",
       "      <td>0</td>\n",
       "      <td>0</td>\n",
       "      <td>1</td>\n",
       "      <td>0</td>\n",
       "      <td>0</td>\n",
       "      <td>0</td>\n",
       "      <td>...</td>\n",
       "      <td>0</td>\n",
       "      <td>0</td>\n",
       "      <td>0</td>\n",
       "      <td>1</td>\n",
       "      <td>0</td>\n",
       "      <td>1</td>\n",
       "      <td>0</td>\n",
       "      <td>0</td>\n",
       "      <td>0</td>\n",
       "      <td>0</td>\n",
       "    </tr>\n",
       "  </tbody>\n",
       "</table>\n",
       "<p>5 rows × 47 columns</p>\n",
       "</div>"
      ],
      "text/plain": [
       "   from_area_id_Low Cancellation  from_area_id_Medium Cancellation  \\\n",
       "0                              1                                 0   \n",
       "1                              1                                 0   \n",
       "2                              1                                 0   \n",
       "3                              1                                 0   \n",
       "4                              1                                 0   \n",
       "\n",
       "   from_date_day_Monday  from_date_day_Saturday  from_date_day_Sunday  \\\n",
       "0                     0                       0                     0   \n",
       "1                     0                       0                     0   \n",
       "2                     0                       0                     0   \n",
       "3                     0                       0                     0   \n",
       "4                     0                       0                     0   \n",
       "\n",
       "   from_date_day_Thursday  from_date_day_Tuesday  from_date_day_Wednesday  \\\n",
       "0                       0                      1                        0   \n",
       "1                       0                      1                        0   \n",
       "2                       0                      1                        0   \n",
       "3                       0                      1                        0   \n",
       "4                       0                      1                        0   \n",
       "\n",
       "   booking_created_day_Monday  booking_created_day_Saturday  ...  \\\n",
       "0                           0                             0  ...   \n",
       "1                           0                             0  ...   \n",
       "2                           0                             0  ...   \n",
       "3                           0                             0  ...   \n",
       "4                           0                             0  ...   \n",
       "\n",
       "   from_date_session_Early Morning  from_date_session_Evening  \\\n",
       "0                                0                          0   \n",
       "1                                0                          0   \n",
       "2                                0                          0   \n",
       "3                                1                          0   \n",
       "4                                0                          0   \n",
       "\n",
       "   from_date_session_Late Night  from_date_session_Morning  \\\n",
       "0                             1                          0   \n",
       "1                             0                          1   \n",
       "2                             1                          0   \n",
       "3                             0                          0   \n",
       "4                             0                          1   \n",
       "\n",
       "   from_date_session_Night  booking_created_session_Early Morning  \\\n",
       "0                        0                                      0   \n",
       "1                        0                                      0   \n",
       "2                        0                                      0   \n",
       "3                        0                                      0   \n",
       "4                        0                                      1   \n",
       "\n",
       "   booking_created_session_Evening  booking_created_session_Late Night  \\\n",
       "0                                0                                   1   \n",
       "1                                0                                   1   \n",
       "2                                0                                   1   \n",
       "3                                0                                   1   \n",
       "4                                0                                   0   \n",
       "\n",
       "   booking_created_session_Morning  booking_created_session_Night  \n",
       "0                                0                              0  \n",
       "1                                0                              0  \n",
       "2                                0                              0  \n",
       "3                                0                              0  \n",
       "4                                0                              0  \n",
       "\n",
       "[5 rows x 47 columns]"
      ]
     },
     "execution_count": 73,
     "metadata": {},
     "output_type": "execute_result"
    }
   ],
   "source": [
    "X_char_dum.head()"
   ]
  },
  {
   "cell_type": "code",
   "execution_count": 74,
   "id": "33e8bcd3",
   "metadata": {},
   "outputs": [],
   "source": [
    "data_all = pd.concat([num,X_char_dum],axis=1,join='inner')"
   ]
  },
  {
   "cell_type": "code",
   "execution_count": 75,
   "id": "0106f07b",
   "metadata": {},
   "outputs": [
    {
     "data": {
      "text/html": [
       "<div>\n",
       "<style scoped>\n",
       "    .dataframe tbody tr th:only-of-type {\n",
       "        vertical-align: middle;\n",
       "    }\n",
       "\n",
       "    .dataframe tbody tr th {\n",
       "        vertical-align: top;\n",
       "    }\n",
       "\n",
       "    .dataframe thead th {\n",
       "        text-align: right;\n",
       "    }\n",
       "</style>\n",
       "<table border=\"1\" class=\"dataframe\">\n",
       "  <thead>\n",
       "    <tr style=\"text-align: right;\">\n",
       "      <th></th>\n",
       "      <th>online_booking</th>\n",
       "      <th>mobile_site_booking</th>\n",
       "      <th>distance</th>\n",
       "      <th>time_diff</th>\n",
       "      <th>from_area_id_Low Cancellation</th>\n",
       "      <th>from_area_id_Medium Cancellation</th>\n",
       "      <th>from_date_day_Monday</th>\n",
       "      <th>from_date_day_Saturday</th>\n",
       "      <th>from_date_day_Sunday</th>\n",
       "      <th>from_date_day_Thursday</th>\n",
       "      <th>...</th>\n",
       "      <th>from_date_session_Early Morning</th>\n",
       "      <th>from_date_session_Evening</th>\n",
       "      <th>from_date_session_Late Night</th>\n",
       "      <th>from_date_session_Morning</th>\n",
       "      <th>from_date_session_Night</th>\n",
       "      <th>booking_created_session_Early Morning</th>\n",
       "      <th>booking_created_session_Evening</th>\n",
       "      <th>booking_created_session_Late Night</th>\n",
       "      <th>booking_created_session_Morning</th>\n",
       "      <th>booking_created_session_Night</th>\n",
       "    </tr>\n",
       "  </thead>\n",
       "  <tbody>\n",
       "    <tr>\n",
       "      <th>0</th>\n",
       "      <td>0</td>\n",
       "      <td>0</td>\n",
       "      <td>3.980687</td>\n",
       "      <td>21.0</td>\n",
       "      <td>1</td>\n",
       "      <td>0</td>\n",
       "      <td>0</td>\n",
       "      <td>0</td>\n",
       "      <td>0</td>\n",
       "      <td>0</td>\n",
       "      <td>...</td>\n",
       "      <td>0</td>\n",
       "      <td>0</td>\n",
       "      <td>1</td>\n",
       "      <td>0</td>\n",
       "      <td>0</td>\n",
       "      <td>0</td>\n",
       "      <td>0</td>\n",
       "      <td>1</td>\n",
       "      <td>0</td>\n",
       "      <td>0</td>\n",
       "    </tr>\n",
       "    <tr>\n",
       "      <th>1</th>\n",
       "      <td>0</td>\n",
       "      <td>0</td>\n",
       "      <td>14.004432</td>\n",
       "      <td>395.0</td>\n",
       "      <td>1</td>\n",
       "      <td>0</td>\n",
       "      <td>0</td>\n",
       "      <td>0</td>\n",
       "      <td>0</td>\n",
       "      <td>0</td>\n",
       "      <td>...</td>\n",
       "      <td>0</td>\n",
       "      <td>0</td>\n",
       "      <td>0</td>\n",
       "      <td>1</td>\n",
       "      <td>0</td>\n",
       "      <td>0</td>\n",
       "      <td>0</td>\n",
       "      <td>1</td>\n",
       "      <td>0</td>\n",
       "      <td>0</td>\n",
       "    </tr>\n",
       "    <tr>\n",
       "      <th>2</th>\n",
       "      <td>0</td>\n",
       "      <td>0</td>\n",
       "      <td>12.648909</td>\n",
       "      <td>22.0</td>\n",
       "      <td>1</td>\n",
       "      <td>0</td>\n",
       "      <td>0</td>\n",
       "      <td>0</td>\n",
       "      <td>0</td>\n",
       "      <td>0</td>\n",
       "      <td>...</td>\n",
       "      <td>0</td>\n",
       "      <td>0</td>\n",
       "      <td>1</td>\n",
       "      <td>0</td>\n",
       "      <td>0</td>\n",
       "      <td>0</td>\n",
       "      <td>0</td>\n",
       "      <td>1</td>\n",
       "      <td>0</td>\n",
       "      <td>0</td>\n",
       "    </tr>\n",
       "    <tr>\n",
       "      <th>3</th>\n",
       "      <td>0</td>\n",
       "      <td>0</td>\n",
       "      <td>9.534596</td>\n",
       "      <td>66.0</td>\n",
       "      <td>1</td>\n",
       "      <td>0</td>\n",
       "      <td>0</td>\n",
       "      <td>0</td>\n",
       "      <td>0</td>\n",
       "      <td>0</td>\n",
       "      <td>...</td>\n",
       "      <td>1</td>\n",
       "      <td>0</td>\n",
       "      <td>0</td>\n",
       "      <td>0</td>\n",
       "      <td>0</td>\n",
       "      <td>0</td>\n",
       "      <td>0</td>\n",
       "      <td>1</td>\n",
       "      <td>0</td>\n",
       "      <td>0</td>\n",
       "    </tr>\n",
       "    <tr>\n",
       "      <th>4</th>\n",
       "      <td>0</td>\n",
       "      <td>0</td>\n",
       "      <td>14.655467</td>\n",
       "      <td>67.0</td>\n",
       "      <td>1</td>\n",
       "      <td>0</td>\n",
       "      <td>0</td>\n",
       "      <td>0</td>\n",
       "      <td>0</td>\n",
       "      <td>0</td>\n",
       "      <td>...</td>\n",
       "      <td>0</td>\n",
       "      <td>0</td>\n",
       "      <td>0</td>\n",
       "      <td>1</td>\n",
       "      <td>0</td>\n",
       "      <td>1</td>\n",
       "      <td>0</td>\n",
       "      <td>0</td>\n",
       "      <td>0</td>\n",
       "      <td>0</td>\n",
       "    </tr>\n",
       "  </tbody>\n",
       "</table>\n",
       "<p>5 rows × 51 columns</p>\n",
       "</div>"
      ],
      "text/plain": [
       "   online_booking  mobile_site_booking   distance  time_diff  \\\n",
       "0               0                    0   3.980687       21.0   \n",
       "1               0                    0  14.004432      395.0   \n",
       "2               0                    0  12.648909       22.0   \n",
       "3               0                    0   9.534596       66.0   \n",
       "4               0                    0  14.655467       67.0   \n",
       "\n",
       "   from_area_id_Low Cancellation  from_area_id_Medium Cancellation  \\\n",
       "0                              1                                 0   \n",
       "1                              1                                 0   \n",
       "2                              1                                 0   \n",
       "3                              1                                 0   \n",
       "4                              1                                 0   \n",
       "\n",
       "   from_date_day_Monday  from_date_day_Saturday  from_date_day_Sunday  \\\n",
       "0                     0                       0                     0   \n",
       "1                     0                       0                     0   \n",
       "2                     0                       0                     0   \n",
       "3                     0                       0                     0   \n",
       "4                     0                       0                     0   \n",
       "\n",
       "   from_date_day_Thursday  ...  from_date_session_Early Morning  \\\n",
       "0                       0  ...                                0   \n",
       "1                       0  ...                                0   \n",
       "2                       0  ...                                0   \n",
       "3                       0  ...                                1   \n",
       "4                       0  ...                                0   \n",
       "\n",
       "   from_date_session_Evening  from_date_session_Late Night  \\\n",
       "0                          0                             1   \n",
       "1                          0                             0   \n",
       "2                          0                             1   \n",
       "3                          0                             0   \n",
       "4                          0                             0   \n",
       "\n",
       "   from_date_session_Morning  from_date_session_Night  \\\n",
       "0                          0                        0   \n",
       "1                          1                        0   \n",
       "2                          0                        0   \n",
       "3                          0                        0   \n",
       "4                          1                        0   \n",
       "\n",
       "   booking_created_session_Early Morning  booking_created_session_Evening  \\\n",
       "0                                      0                                0   \n",
       "1                                      0                                0   \n",
       "2                                      0                                0   \n",
       "3                                      0                                0   \n",
       "4                                      1                                0   \n",
       "\n",
       "   booking_created_session_Late Night  booking_created_session_Morning  \\\n",
       "0                                   1                                0   \n",
       "1                                   1                                0   \n",
       "2                                   1                                0   \n",
       "3                                   1                                0   \n",
       "4                                   0                                0   \n",
       "\n",
       "   booking_created_session_Night  \n",
       "0                              0  \n",
       "1                              0  \n",
       "2                              0  \n",
       "3                              0  \n",
       "4                              0  \n",
       "\n",
       "[5 rows x 51 columns]"
      ]
     },
     "execution_count": 75,
     "metadata": {},
     "output_type": "execute_result"
    }
   ],
   "source": [
    "data_all.head()"
   ]
  },
  {
   "cell_type": "code",
   "execution_count": 79,
   "id": "e08c75e8",
   "metadata": {},
   "outputs": [],
   "source": [
    "y = dataset[['Car_Cancellation']]"
   ]
  },
  {
   "cell_type": "code",
   "execution_count": 80,
   "id": "49781ff2",
   "metadata": {},
   "outputs": [
    {
     "data": {
      "text/html": [
       "<div>\n",
       "<style scoped>\n",
       "    .dataframe tbody tr th:only-of-type {\n",
       "        vertical-align: middle;\n",
       "    }\n",
       "\n",
       "    .dataframe tbody tr th {\n",
       "        vertical-align: top;\n",
       "    }\n",
       "\n",
       "    .dataframe thead th {\n",
       "        text-align: right;\n",
       "    }\n",
       "</style>\n",
       "<table border=\"1\" class=\"dataframe\">\n",
       "  <thead>\n",
       "    <tr style=\"text-align: right;\">\n",
       "      <th></th>\n",
       "      <th>Car_Cancellation</th>\n",
       "    </tr>\n",
       "  </thead>\n",
       "  <tbody>\n",
       "    <tr>\n",
       "      <th>0</th>\n",
       "      <td>0</td>\n",
       "    </tr>\n",
       "    <tr>\n",
       "      <th>1</th>\n",
       "      <td>0</td>\n",
       "    </tr>\n",
       "    <tr>\n",
       "      <th>2</th>\n",
       "      <td>0</td>\n",
       "    </tr>\n",
       "    <tr>\n",
       "      <th>3</th>\n",
       "      <td>0</td>\n",
       "    </tr>\n",
       "    <tr>\n",
       "      <th>4</th>\n",
       "      <td>0</td>\n",
       "    </tr>\n",
       "  </tbody>\n",
       "</table>\n",
       "</div>"
      ],
      "text/plain": [
       "   Car_Cancellation\n",
       "0                 0\n",
       "1                 0\n",
       "2                 0\n",
       "3                 0\n",
       "4                 0"
      ]
     },
     "execution_count": 80,
     "metadata": {},
     "output_type": "execute_result"
    }
   ],
   "source": [
    "y.head()"
   ]
  },
  {
   "cell_type": "code",
   "execution_count": 83,
   "id": "b39848d9",
   "metadata": {},
   "outputs": [
    {
     "name": "stdout",
     "output_type": "stream",
     "text": [
      "3132 40299\n"
     ]
    },
    {
     "data": {
      "text/plain": [
       "<seaborn.axisgrid.FacetGrid at 0x1ae000238d0>"
      ]
     },
     "execution_count": 83,
     "metadata": {},
     "output_type": "execute_result"
    },
    {
     "data": {
      "image/png": "[encoded data removed]",
      "text/plain": [
       "<Figure size 511.111x500 with 1 Axes>"
      ]
     },
     "metadata": {},
     "output_type": "display_data"
    }
   ],
   "source": [
    "yes = dataset[dataset[\"Car_Cancellation\"]==1].shape[0]\n",
    "no = dataset[dataset[\"Car_Cancellation\"]==0].shape[0]\n",
    "print(yes, no)\n",
    "sns.catplot(data=dataset, x=\"Car_Cancellation\", kind=\"count\")"
   ]
  },
  {
   "cell_type": "code",
   "execution_count": 84,
   "id": "7a1d2e53",
   "metadata": {},
   "outputs": [],
   "source": [
    "# balance the data\n",
    "from imblearn.combine import SMOTETomek\n",
    "\n",
    "smt = SMOTETomek(random_state=101, sampling_strategy=\"minority\")\n",
    "X_res, y_res = smt.fit_resample(data_all, y)"
   ]
  },
  {
   "cell_type": "code",
   "execution_count": 85,
   "id": "57a51bdc",
   "metadata": {},
   "outputs": [],
   "source": [
    "from sklearn.ensemble import RandomForestClassifier\n",
    "from sklearn.tree import DecisionTreeClassifier\n",
    "from xgboost import XGBClassifier\n",
    "from sklearn.neighbors import KNeighborsClassifier\n",
    "from sklearn.linear_model import LogisticRegression\n",
    "\n",
    "models = {\n",
    "    \"Random forest\" : RandomForestClassifier(),\n",
    "    \"Decision tree\" : DecisionTreeClassifier(),\n",
    "    \"logisitic Regression\" : LogisticRegression(),\n",
    "    \"knn classifier\" : KNeighborsClassifier(),\n",
    "    \"xgb\" : XGBClassifier()\n",
    "}"
   ]
  },
  {
   "cell_type": "code",
   "execution_count": 117,
   "id": "2a41f535",
   "metadata": {},
   "outputs": [],
   "source": [
    "from sklearn.metrics import accuracy_score, precision_score, recall_score, f1_score, roc_auc_score, \\\n",
    "                            confusion_matrix\n",
    "\n",
    "\n",
    "def evaluate_clf(true, predicted):\n",
    "    \n",
    "    acc = accuracy_score(true, predicted)\n",
    "    f1 = f1_score(true, predicted)    \n",
    "    pre = precision_score(true, predicted)    \n",
    "    recall = recall_score(true, predicted)    \n",
    "    roc = roc_auc_score(true, predicted)  \n",
    "    \n",
    "    return acc, f1, pre, recall, roc\n",
    "\n",
    "\n",
    "# def total_cost(y_true,y_pred):\n",
    "#     tn, fp, fn, tp = confusion_matrix(y_true, y_pred).ravel()\n",
    "#     cost = 10*fp + 500*fn\n",
    "    \n",
    "#     return cost"
   ]
  },
  {
   "cell_type": "code",
   "execution_count": 122,
   "id": "9a760522",
   "metadata": {},
   "outputs": [],
   "source": [
    "from sklearn.model_selection import train_test_split\n",
    "\n",
    "def evaluate_model(X, y, models):\n",
    "    \n",
    "    X_train, X_test, y_train, y_test = train_test_split(X, y, test_size=0.2, random_state=101)\n",
    "    \n",
    "    accuracy_list = []\n",
    "    model_list = []\n",
    "    \n",
    "    for i in range(len(list(models))):\n",
    "        model = list(models.values())[i]\n",
    "        model.fit(X_train, y_train) # training the model\n",
    "        \n",
    "        # make prediction\n",
    "        y_test_pred = model.predict(X_test)\n",
    "        \n",
    "        acc, f1, pre, recall, roc = evaluate_clf(y_test, y_test_pred)\n",
    "        \n",
    "        # calculate the cost\n",
    "        #test_cost = total_cost(y_test, y_test_pred)\n",
    "        \n",
    "        print(list(models.keys())[i])\n",
    "        model_list.append(list(models.keys())[i])\n",
    "        \n",
    "        print(\"Model performance for test Set\")\n",
    "        print(f\"- Accuracy: {acc}\")\n",
    "        print(f\"- f1 score: {f1}\")        \n",
    "        print(f\"- precision score: {pre}\")        \n",
    "        print(f\"- Recall: {recall}\")        \n",
    "        print(f\"- roc: {roc}\")\n",
    "        #print(f\"- total cost : {test_cost}\")\n",
    "        \n",
    "        accuracy_list.append(acc)\n",
    "        \n",
    "        print(\"=\"*35)\n",
    "        print(\"\\n\")\n",
    "        \n",
    "    report = pd.DataFrame(list(zip(model_list, accuracy_list)), \n",
    "                               columns=[\"Model Name\", 'Accuracy']).sort_values(by=[\"Accuracy\"])\n",
    "                          \n",
    "    return report"
   ]
  },
  {
   "cell_type": "code",
   "execution_count": 123,
   "id": "b55837d6",
   "metadata": {},
   "outputs": [
    {
     "name": "stdout",
     "output_type": "stream",
     "text": [
      "Random forest\n",
      "Model performance for test Set\n",
      "- Accuracy: 0.9553548875978782\n",
      "- f1 score: 0.9554477282752536\n",
      "- precision score: 0.9645038167938931\n",
      "- Recall: 0.9465601198651517\n",
      "- roc: 0.9554571392733194\n",
      "===================================\n",
      "\n",
      "\n",
      "Decision tree\n",
      "Model performance for test Set\n",
      "- Accuracy: 0.9300959838343016\n",
      "- f1 score: 0.9316708845133016\n",
      "- precision score: 0.9212646484375\n",
      "- Recall: 0.9423148957422899\n",
      "- roc: 0.9299539216158746\n",
      "===================================\n",
      "\n",
      "\n",
      "logisitic Regression\n",
      "Model performance for test Set\n",
      "- Accuracy: 0.8862717858044961\n",
      "- f1 score: 0.8870067130936696\n",
      "- precision score: 0.8914249684741488\n",
      "- Recall: 0.8826320389561743\n",
      "- roc: 0.8863141030350057\n",
      "===================================\n",
      "\n",
      "\n",
      "knn classifier\n",
      "Model performance for test Set\n",
      "- Accuracy: 0.7819525132609245\n",
      "- f1 score: 0.8180428940296148\n",
      "- precision score: 0.7076951130561634\n",
      "- Recall: 0.9691596953427394\n",
      "- roc: 0.7797759636800576\n",
      "===================================\n",
      "\n",
      "\n",
      "xgb\n",
      "Model performance for test Set\n",
      "- Accuracy: 0.9473351856529426\n",
      "- f1 score: 0.9477574542721122\n",
      "- precision score: 0.9509742300439975\n",
      "- Recall: 0.9445623673367461\n",
      "- roc: 0.947367423607047\n",
      "===================================\n",
      "\n",
      "\n"
     ]
    }
   ],
   "source": [
    "report_evaluation = evaluate_model(X_res, y_res, models)"
   ]
  },
  {
   "cell_type": "code",
   "execution_count": 124,
   "id": "888cb4cf",
   "metadata": {},
   "outputs": [
    {
     "data": {
      "text/html": [
       "<div>\n",
       "<style scoped>\n",
       "    .dataframe tbody tr th:only-of-type {\n",
       "        vertical-align: middle;\n",
       "    }\n",
       "\n",
       "    .dataframe tbody tr th {\n",
       "        vertical-align: top;\n",
       "    }\n",
       "\n",
       "    .dataframe thead th {\n",
       "        text-align: right;\n",
       "    }\n",
       "</style>\n",
       "<table border=\"1\" class=\"dataframe\">\n",
       "  <thead>\n",
       "    <tr style=\"text-align: right;\">\n",
       "      <th></th>\n",
       "      <th>Model Name</th>\n",
       "      <th>Accuracy</th>\n",
       "    </tr>\n",
       "  </thead>\n",
       "  <tbody>\n",
       "    <tr>\n",
       "      <th>3</th>\n",
       "      <td>knn classifier</td>\n",
       "      <td>0.781953</td>\n",
       "    </tr>\n",
       "    <tr>\n",
       "      <th>2</th>\n",
       "      <td>logisitic Regression</td>\n",
       "      <td>0.886272</td>\n",
       "    </tr>\n",
       "    <tr>\n",
       "      <th>1</th>\n",
       "      <td>Decision tree</td>\n",
       "      <td>0.930096</td>\n",
       "    </tr>\n",
       "    <tr>\n",
       "      <th>4</th>\n",
       "      <td>xgb</td>\n",
       "      <td>0.947335</td>\n",
       "    </tr>\n",
       "    <tr>\n",
       "      <th>0</th>\n",
       "      <td>Random forest</td>\n",
       "      <td>0.955355</td>\n",
       "    </tr>\n",
       "  </tbody>\n",
       "</table>\n",
       "</div>"
      ],
      "text/plain": [
       "             Model Name  Accuracy\n",
       "3        knn classifier  0.781953\n",
       "2  logisitic Regression  0.886272\n",
       "1         Decision tree  0.930096\n",
       "4                   xgb  0.947335\n",
       "0         Random forest  0.955355"
      ]
     },
     "execution_count": 124,
     "metadata": {},
     "output_type": "execute_result"
    }
   ],
   "source": [
    "report_evaluation"
   ]
  },
  {
   "cell_type": "code",
   "execution_count": 125,
   "id": "efd6fef1",
   "metadata": {},
   "outputs": [],
   "source": [
    "# final Model and Report\n",
    "final_model = RandomForestClassifier()\n",
    "\n"
   ]
  },
  {
   "cell_type": "code",
   "execution_count": 126,
   "id": "440e6fb7",
   "metadata": {},
   "outputs": [],
   "source": [
    "X_train, X_test, y_train, y_test = train_test_split(X_res, y_res, test_size=0.2, random_state=101)"
   ]
  },
  {
   "cell_type": "code",
   "execution_count": 127,
   "id": "bae6d8f3",
   "metadata": {},
   "outputs": [],
   "source": [
    "final_model = final_model.fit(X_train, y_train)\n",
    "y_pred = final_model.predict(X_test)"
   ]
  },
  {
   "cell_type": "code",
   "execution_count": 128,
   "id": "48dfea9a",
   "metadata": {},
   "outputs": [
    {
     "data": {
      "text/plain": [
       "0.9546602677443798"
      ]
     },
     "execution_count": 128,
     "metadata": {},
     "output_type": "execute_result"
    }
   ],
   "source": [
    "accuracy_score(y_pred, y_test)"
   ]
  },
  {
   "cell_type": "code",
   "execution_count": null,
   "id": "0f5c8713",
   "metadata": {},
   "outputs": [],
   "source": []
  },
  {
   "cell_type": "code",
   "execution_count": 95,
   "id": "d0080887",
   "metadata": {},
   "outputs": [
    {
     "name": "stdout",
     "output_type": "stream",
     "text": [
      "1.5.1\n"
     ]
    }
   ],
   "source": [
    "import sklearn\n",
    "print(sklearn.__version__)\n"
   ]
  },
  {
   "cell_type": "code",
   "execution_count": 129,
   "id": "fa55e747",
   "metadata": {
    "scrolled": true
   },
   "outputs": [
    {
     "data": {
      "text/plain": [
       "array([[7543,  434],\n",
       "       [ 284, 7575]], dtype=int64)"
      ]
     },
     "execution_count": 129,
     "metadata": {},
     "output_type": "execute_result"
    }
   ],
   "source": [
    "from sklearn.metrics import confusion_matrix, accuracy_score\n",
    "confusion_matrix(y_pred, y_test)\n",
    "\n"
   ]
  },
  {
   "cell_type": "code",
   "execution_count": 130,
   "id": "889b7983",
   "metadata": {},
   "outputs": [
    {
     "data": {
      "image/png": "[encoded data removed]",
      "text/plain": [
       "<Figure size 1000x700 with 2 Axes>"
      ]
     },
     "metadata": {},
     "output_type": "display_data"
    }
   ],
   "source": [
    "from sklearn.metrics import confusion_matrix\n",
    "\n",
    "cm = confusion_matrix(y_test, y_pred)\n",
    "\n",
    "# Plot the confusion matrix\n",
    "plt.figure(figsize=(10, 7))\n",
    "sns.heatmap(cm, annot=True, fmt='d', cmap='Blues', \n",
    "            xticklabels=['Class 0', 'Class 1'], \n",
    "            yticklabels=['Class 0', 'Class 1'])\n",
    "plt.xlabel('Predicted')\n",
    "plt.ylabel('True')\n",
    "plt.title('Confusion Matrix')\n",
    "plt.show()"
   ]
  },
  {
   "cell_type": "code",
   "execution_count": null,
   "id": "6deb8081",
   "metadata": {},
   "outputs": [],
   "source": []
  }
 ],
 "metadata": {
  "kernelspec": {
   "display_name": "Python 3 (ipykernel)",
   "language": "python",
   "name": "python3"
  },
  "language_info": {
   "codemirror_mode": {
    "name": "ipython",
    "version": 3
   },
   "file_extension": ".py",
   "mimetype": "text/x-python",
   "name": "python",
   "nbconvert_exporter": "python",
   "pygments_lexer": "ipython3",
   "version": "3.11.5"
  }
 },
 "nbformat": 4,
 "nbformat_minor": 5
}
