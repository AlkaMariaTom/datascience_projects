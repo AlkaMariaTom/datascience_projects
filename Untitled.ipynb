{
 "cells": [
  {
   "cell_type": "code",
   "execution_count": 1,
   "id": "4cfbd085",
   "metadata": {},
   "outputs": [],
   "source": [
    "import numpy as np\n",
    "import pandas as pd\n",
    "from matplotlib import pyplot as plt\n",
    "import seaborn as sns\n",
    "from sklearn.model_selection import train_test_split\n",
    "from sklearn.preprocessing import StandardScaler\n",
    "from sklearn.linear_model import LogisticRegression\n",
    "from sklearn import metrics\n",
    "%matplotlib inline\n",
    "import warnings\n",
    "warnings.filterwarnings('ignore')"
   ]
  },
  {
   "cell_type": "code",
   "execution_count": 2,
   "id": "fce55e5c",
   "metadata": {},
   "outputs": [
    {
     "data": {
      "text/html": [
       "<div>\n",
       "<style scoped>\n",
       "    .dataframe tbody tr th:only-of-type {\n",
       "        vertical-align: middle;\n",
       "    }\n",
       "\n",
       "    .dataframe tbody tr th {\n",
       "        vertical-align: top;\n",
       "    }\n",
       "\n",
       "    .dataframe thead th {\n",
       "        text-align: right;\n",
       "    }\n",
       "</style>\n",
       "<table border=\"1\" class=\"dataframe\">\n",
       "  <thead>\n",
       "    <tr style=\"text-align: right;\">\n",
       "      <th></th>\n",
       "      <th>id</th>\n",
       "      <th>user_id</th>\n",
       "      <th>vehicle_model_id</th>\n",
       "      <th>package_id</th>\n",
       "      <th>travel_type_id</th>\n",
       "      <th>from_area_id</th>\n",
       "      <th>to_area_id</th>\n",
       "      <th>from_city_id</th>\n",
       "      <th>to_city_id</th>\n",
       "      <th>from_date</th>\n",
       "      <th>online_booking</th>\n",
       "      <th>mobile_site_booking</th>\n",
       "      <th>booking_created</th>\n",
       "      <th>from_lat</th>\n",
       "      <th>from_long</th>\n",
       "      <th>to_lat</th>\n",
       "      <th>to_long</th>\n",
       "      <th>Car_Cancellation</th>\n",
       "    </tr>\n",
       "  </thead>\n",
       "  <tbody>\n",
       "    <tr>\n",
       "      <th>0</th>\n",
       "      <td>132512</td>\n",
       "      <td>22177</td>\n",
       "      <td>28</td>\n",
       "      <td>NaN</td>\n",
       "      <td>2</td>\n",
       "      <td>83.0</td>\n",
       "      <td>448.0</td>\n",
       "      <td>NaN</td>\n",
       "      <td>NaN</td>\n",
       "      <td>01-01-2013 02:00</td>\n",
       "      <td>0</td>\n",
       "      <td>0</td>\n",
       "      <td>01-01-2013 01:39</td>\n",
       "      <td>12.924150</td>\n",
       "      <td>77.672290</td>\n",
       "      <td>12.927320</td>\n",
       "      <td>77.635750</td>\n",
       "      <td>0</td>\n",
       "    </tr>\n",
       "    <tr>\n",
       "      <th>1</th>\n",
       "      <td>132513</td>\n",
       "      <td>21413</td>\n",
       "      <td>12</td>\n",
       "      <td>NaN</td>\n",
       "      <td>2</td>\n",
       "      <td>1010.0</td>\n",
       "      <td>540.0</td>\n",
       "      <td>NaN</td>\n",
       "      <td>NaN</td>\n",
       "      <td>01-01-2013 09:00</td>\n",
       "      <td>0</td>\n",
       "      <td>0</td>\n",
       "      <td>01-01-2013 02:25</td>\n",
       "      <td>12.966910</td>\n",
       "      <td>77.749350</td>\n",
       "      <td>12.927680</td>\n",
       "      <td>77.626640</td>\n",
       "      <td>0</td>\n",
       "    </tr>\n",
       "    <tr>\n",
       "      <th>2</th>\n",
       "      <td>132514</td>\n",
       "      <td>22178</td>\n",
       "      <td>12</td>\n",
       "      <td>NaN</td>\n",
       "      <td>2</td>\n",
       "      <td>1301.0</td>\n",
       "      <td>1034.0</td>\n",
       "      <td>NaN</td>\n",
       "      <td>NaN</td>\n",
       "      <td>01-01-2013 03:30</td>\n",
       "      <td>0</td>\n",
       "      <td>0</td>\n",
       "      <td>01-01-2013 03:08</td>\n",
       "      <td>12.937222</td>\n",
       "      <td>77.626915</td>\n",
       "      <td>13.047926</td>\n",
       "      <td>77.597766</td>\n",
       "      <td>0</td>\n",
       "    </tr>\n",
       "    <tr>\n",
       "      <th>3</th>\n",
       "      <td>132515</td>\n",
       "      <td>13034</td>\n",
       "      <td>12</td>\n",
       "      <td>NaN</td>\n",
       "      <td>2</td>\n",
       "      <td>768.0</td>\n",
       "      <td>398.0</td>\n",
       "      <td>NaN</td>\n",
       "      <td>NaN</td>\n",
       "      <td>01-01-2013 05:45</td>\n",
       "      <td>0</td>\n",
       "      <td>0</td>\n",
       "      <td>01-01-2013 04:39</td>\n",
       "      <td>12.989990</td>\n",
       "      <td>77.553320</td>\n",
       "      <td>12.971430</td>\n",
       "      <td>77.639140</td>\n",
       "      <td>0</td>\n",
       "    </tr>\n",
       "    <tr>\n",
       "      <th>4</th>\n",
       "      <td>132517</td>\n",
       "      <td>22180</td>\n",
       "      <td>12</td>\n",
       "      <td>NaN</td>\n",
       "      <td>2</td>\n",
       "      <td>1365.0</td>\n",
       "      <td>849.0</td>\n",
       "      <td>NaN</td>\n",
       "      <td>NaN</td>\n",
       "      <td>01-01-2013 09:00</td>\n",
       "      <td>0</td>\n",
       "      <td>0</td>\n",
       "      <td>01-01-2013 07:53</td>\n",
       "      <td>12.845653</td>\n",
       "      <td>77.677925</td>\n",
       "      <td>12.954340</td>\n",
       "      <td>77.600720</td>\n",
       "      <td>0</td>\n",
       "    </tr>\n",
       "  </tbody>\n",
       "</table>\n",
       "</div>"
      ],
      "text/plain": [
       "       id  user_id  vehicle_model_id  package_id  travel_type_id  \\\n",
       "0  132512    22177                28         NaN               2   \n",
       "1  132513    21413                12         NaN               2   \n",
       "2  132514    22178                12         NaN               2   \n",
       "3  132515    13034                12         NaN               2   \n",
       "4  132517    22180                12         NaN               2   \n",
       "\n",
       "   from_area_id  to_area_id  from_city_id  to_city_id         from_date  \\\n",
       "0          83.0       448.0           NaN         NaN  01-01-2013 02:00   \n",
       "1        1010.0       540.0           NaN         NaN  01-01-2013 09:00   \n",
       "2        1301.0      1034.0           NaN         NaN  01-01-2013 03:30   \n",
       "3         768.0       398.0           NaN         NaN  01-01-2013 05:45   \n",
       "4        1365.0       849.0           NaN         NaN  01-01-2013 09:00   \n",
       "\n",
       "   online_booking  mobile_site_booking   booking_created   from_lat  \\\n",
       "0               0                    0  01-01-2013 01:39  12.924150   \n",
       "1               0                    0  01-01-2013 02:25  12.966910   \n",
       "2               0                    0  01-01-2013 03:08  12.937222   \n",
       "3               0                    0  01-01-2013 04:39  12.989990   \n",
       "4               0                    0  01-01-2013 07:53  12.845653   \n",
       "\n",
       "   from_long     to_lat    to_long  Car_Cancellation  \n",
       "0  77.672290  12.927320  77.635750                 0  \n",
       "1  77.749350  12.927680  77.626640                 0  \n",
       "2  77.626915  13.047926  77.597766                 0  \n",
       "3  77.553320  12.971430  77.639140                 0  \n",
       "4  77.677925  12.954340  77.600720                 0  "
      ]
     },
     "execution_count": 2,
     "metadata": {},
     "output_type": "execute_result"
    }
   ],
   "source": [
    "dataset=pd.read_csv('YourCabs.csv')\n",
    "dataset.head()"
   ]
  },
  {
   "cell_type": "code",
   "execution_count": 3,
   "id": "b5bb5854",
   "metadata": {},
   "outputs": [
    {
     "data": {
      "text/plain": [
       "(43431, 18)"
      ]
     },
     "execution_count": 3,
     "metadata": {},
     "output_type": "execute_result"
    }
   ],
   "source": [
    "dataset.shape"
   ]
  },
  {
   "cell_type": "code",
   "execution_count": 4,
   "id": "6ca579dc",
   "metadata": {},
   "outputs": [],
   "source": [
    "x = dataset.drop(['Car_Cancellation'], axis=1)\n",
    "y = dataset[['Car_Cancellation']]"
   ]
  },
  {
   "cell_type": "code",
   "execution_count": 6,
   "id": "0a415684",
   "metadata": {},
   "outputs": [
    {
     "data": {
      "text/plain": [
       "id                      0.000000\n",
       "user_id                 0.000000\n",
       "vehicle_model_id        0.000000\n",
       "package_id             82.616104\n",
       "travel_type_id          0.000000\n",
       "from_area_id            0.202620\n",
       "to_area_id             21.040271\n",
       "from_city_id           62.365591\n",
       "to_city_id             96.343626\n",
       "from_date               0.000000\n",
       "online_booking          0.000000\n",
       "mobile_site_booking     0.000000\n",
       "booking_created         0.000000\n",
       "from_lat                0.214133\n",
       "from_long               0.214133\n",
       "to_lat                 21.040271\n",
       "to_long                21.040271\n",
       "dtype: float64"
      ]
     },
     "execution_count": 6,
     "metadata": {},
     "output_type": "execute_result"
    }
   ],
   "source": [
    "(x.isnull().sum() / x.shape[0]) * 100\n"
   ]
  },
  {
   "cell_type": "markdown",
   "id": "8f57c915",
   "metadata": {},
   "source": [
    "#Datacleaning"
   ]
  },
  {
   "cell_type": "code",
   "execution_count": null,
   "id": "fda23b7c",
   "metadata": {},
   "outputs": [],
   "source": []
  }
 ],
 "metadata": {
  "kernelspec": {
   "display_name": "Python 3 (ipykernel)",
   "language": "python",
   "name": "python3"
  },
  "language_info": {
   "codemirror_mode": {
    "name": "ipython",
    "version": 3
   },
   "file_extension": ".py",
   "mimetype": "text/x-python",
   "name": "python",
   "nbconvert_exporter": "python",
   "pygments_lexer": "ipython3",
   "version": "3.11.5"
  }
 },
 "nbformat": 4,
 "nbformat_minor": 5
}
